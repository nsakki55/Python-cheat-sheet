{
 "cells": [
  {
   "cell_type": "markdown",
   "metadata": {},
   "source": [
    "# 現役シリコンバレーエンジニアが教えるPython 3 入門 + 応用 +アメリカのシリコンバレー流コードスタイル\n"
   ]
  },
  {
   "cell_type": "markdown",
   "metadata": {},
   "source": [
    "## セクション２：Pythonの基本"
   ]
  },
  {
   "cell_type": "code",
   "execution_count": 39,
   "metadata": {},
   "outputs": [
    {
     "name": "stdout",
     "output_type": "stream",
     "text": [
      "sat I don't know'\n",
      "Hello. \n",
      "how are you\n",
      " C:\\name\\name\n",
      "line1\n",
      "line2\n",
      "line3\n",
      "Python\n",
      "Python\n",
      "Python\n",
      "aaaaaaaaaaaaaaaaaabbbbbbbbbbbbbbbb\n",
      "aaaaaaaaaaaaaaaabbbbbbbbbbbbbb\n",
      "#####################\n",
      "True\n",
      "11\n",
      "20\n",
      "2\n",
      "My name is mike. hi mike\n",
      "My Name Is Mike. Hi Mike\n",
      "MY NAME IS MIKE. HI MIKE\n",
      "my name is mike. hi mike\n",
      "My name is Nancy. Hi Nancy\n",
      "a is test\n",
      "a is 1 2 3\n",
      "a is 3 2 1\n",
      "My name is satsuki nagae\n",
      "a is a\n",
      "a is 1, 2, 3\n",
      "a is 3, 2, 1\n"
     ]
    }
   ],
   "source": [
    "# バックスラッシュで特殊文字をエスケープできる\n",
    "print(\"sat I don\\'t know'\")\n",
    "print(\"Hello. \\nhow are you\")\n",
    "\n",
    "# 特殊記号をそのままの文字列として表示する場合\n",
    "print(r' C:\\name\\name')\n",
    "\n",
    "# コロンで複数行に渡って書ける。バックスラッシュで次の行から表示するという意味になる。\n",
    "print('''\\\n",
    "line1\n",
    "line2\n",
    "line3\\\n",
    "''')\n",
    "\n",
    "# 文字列の結合\n",
    "print('Py' 'thon')\n",
    "print('Py' + 'thon')\n",
    "# 変数を使う場合は、+を用いる必要がある\n",
    "prefix = 'Py'\n",
    "print(prefix + 'thon')\n",
    "\n",
    "# 文章が長い場合、改行しても一文で表示ができる。\n",
    "# (): パレンティス\n",
    "s1 = ('aaaaaaaaaaaaaaaaaa' \n",
    "     'bbbbbbbbbbbbbbbb')\n",
    "\n",
    "# パレンティスを使わない場合は,バックスラッシュで改行する\n",
    "s2 = 'aaaaaaaaaaaaaaaa'\\\n",
    "      'bbbbbbbbbbbbbb'\n",
    "print(s1)\n",
    "print(s2)\n",
    "\n",
    "print('#####################')\n",
    "\n",
    "s = 'My name is Mike. Hi Mike'\n",
    "\n",
    "# 文字列の先頭が指定した文字か判定する\n",
    "is_start = s.startswith('My')\n",
    "print(is_start)\n",
    "\n",
    "# 文字列中の何番目のインデックスに指定した文字があるか判定\n",
    "print(s.find('Mike'))\n",
    "\n",
    "# 反対側から\n",
    "print(s.rfind('Mike'))\n",
    "\n",
    "# 文字列の数をカウント\n",
    "print(s.count('Mike'))\n",
    "\n",
    "#   文頭を大文字にする\n",
    "print(s.capitalize())\n",
    "\n",
    "# 単語の先頭を大文字にする\n",
    "print(s.title())\n",
    "\n",
    "# 全ての文字列を大文字にする\n",
    "print(s.upper())\n",
    "\n",
    "# 全ての文字列を小文字にする\n",
    "print(s.lower())\n",
    "\n",
    "#　単語を指定した文字列で置換える\n",
    "print(s.replace('Mike', 'Nancy'))\n",
    "\n",
    "\n",
    "# 文字列の代入\n",
    "# 　format文\n",
    "print('a is {}'.format('test'))\n",
    "print('a is {} {} {}'.format(1, 2, 3))\n",
    "\n",
    "# indexを指定する\n",
    "print('a is {2} {1} {0}'.format(1, 2, 3))\n",
    "\n",
    "# 文字の代入に変数名を使用できる。長い文に有効\n",
    "print('My name is {name} {family}'.format(name='satsuki', family='nagae'))\n",
    "\n",
    "# f-string\n",
    "a = 'a'\n",
    "print(f'a is {a}')\n",
    "\n",
    "x, y, z = 1, 2, 3\n",
    "print(f'a is {x}, {y}, {z}')\n",
    "print(f'a is {z}, {y}, {x}')"
   ]
  },
  {
   "cell_type": "markdown",
   "metadata": {},
   "source": [
    "## セクション3 : データ構造"
   ]
  },
  {
   "cell_type": "markdown",
   "metadata": {},
   "source": [
    "### リスト"
   ]
  },
  {
   "cell_type": "code",
   "execution_count": 73,
   "metadata": {},
   "outputs": [
    {
     "name": "stdout",
     "output_type": "stream",
     "text": [
      "['a', 'b', 'c', 'd']\n",
      "[1, 40, 1]\n",
      "[2, 1, 3, 40, 20, 1]\n",
      "['a', 'b', 'C', 'D', 'E', 'f', 'g']\n",
      "['a', 'b', 'f', 'g']\n",
      "[1, 2, 3, 4, 5, 6, 7, 8, 9, 10, 100]\n",
      "[200, 1, 2, 3, 4, 5, 6, 7, 8, 9, 10, 100]\n",
      "[200, 1, 2, 3, 4, 5, 6, 7, 8, 9, 10]\n",
      "[1, 2, 3, 4, 5, 6, 7, 8, 9, 10]\n",
      "[1, 2, 2, 3]\n",
      "[1, 2, 3, 4, 5, 6, 7, 8, 9, 10]\n",
      "[1, 2, 3, 4, 5, 6, 7, 8, 9, 10]\n",
      "[1, 2, 3, 4, 5, 6, 7, 8, 9, 10]\n",
      "7\n",
      "2\n",
      "True\n",
      "[1, 1, 2, 2, 3, 3, 4, 5]\n",
      "[5, 4, 3, 3, 2, 2, 1, 1]\n",
      "[1, 1, 2, 2, 3, 3, 4, 5]\n",
      "['My', 'name', 'is', 'Mike']\n",
      "My name is Mike\n",
      "My####name####is####Mike\n",
      "j =  [100, 2, 3, 4, 5]\n",
      "i =  [100, 2, 3, 4, 5]\n",
      "x =  [1, 2, 3, 4, 5]\n",
      "y =  [100, 2, 3, 4, 5]\n"
     ]
    }
   ],
   "source": [
    "n = [1, 20, 40, 3, 1, 2]\n",
    "\n",
    "# 文字列は一語に分割される\n",
    "print(list('abcd'))\n",
    "\n",
    "# 一つ飛ばしの場合\n",
    "print(n[::2])\n",
    "\n",
    "# 逆順にする\n",
    "print(n[::-1])\n",
    "\n",
    "\n",
    "s = list('abcdefg')\n",
    "\n",
    "# リストの要素を変更する場合\n",
    "s[2:5] = ['C', 'D', 'E']\n",
    "print(s)\n",
    "\n",
    "# リストの様子をなくすには、空のリストを入れる\n",
    "s[2:5] = []\n",
    "print(s)\n",
    "\n",
    "n = [1, 2, 3, 4, 5, 6, 7, 8, 9, 10]\n",
    "# 要素の追加　\n",
    "n.append(100)\n",
    "print(n)\n",
    "\n",
    "# 特定の位置に挿入\n",
    "n.insert(0, 200)\n",
    "print(n)\n",
    "\n",
    "# 1番最後の要素を取り出す\n",
    "n.pop()\n",
    "print(n)\n",
    "\n",
    "# del文で、特定の要素を消せる\n",
    "del n[0]\n",
    "print(n)\n",
    "\n",
    "t = [1 ,2 ,2, 2, 3]\n",
    "\n",
    "# removeで指定した値の元の要素を削除する\n",
    "t.remove(2)\n",
    "print(t)\n",
    "    \n",
    "a = [1, 2, 3, 4, 5]\n",
    "b = [6, 7, 8, 9, 10]\n",
    "\n",
    "# 二つのリストを+で合わせられる\n",
    "x = a + b\n",
    "print(x)\n",
    "\n",
    "# リストに別のリストをつなげる場合は+で書ける\n",
    "a += b\n",
    "print(a)\n",
    "\n",
    "x = [1, 2, 3, 4, 5]\n",
    "y = [6, 7, 8, 9, 10]\n",
    "\n",
    "# extendでリストの拡張が可能\n",
    "x.extend(y)\n",
    "print(x)\n",
    "\n",
    "r = [1, 2, 3, 4, 5, 1, 2, 3]\n",
    "\n",
    "# 指定要素のインデックス番号を取得. 数え始めるindex番号を指定できる\n",
    "print(r.index(3, 3))\n",
    "\n",
    "# 要素のカウント\n",
    "print(r.count(3))\n",
    "\n",
    "# 要素の存在の確認\n",
    "print(5 in r)\n",
    "\n",
    "# ソート\n",
    "r.sort()\n",
    "print(r)\n",
    "\n",
    "# 逆ソート\n",
    "r.sort(reverse=True)\n",
    "print(r)\n",
    "\n",
    "# 逆ソート\n",
    "r.reverse()\n",
    "print(r)\n",
    "\n",
    "# 文字列を分割してリスト化\n",
    "s = 'My name is Mike'\n",
    "to_split = s.split(' ')\n",
    "print(to_split)\n",
    "\n",
    "# リストの要素を文字列として結合\n",
    "x = ' '.join(to_split)\n",
    "print(x)\n",
    "\n",
    "# 結合する場合のつなげる記号を指定する\n",
    "x = '####'.join(to_split)\n",
    "print(x)\n",
    "\n",
    "# リストをそのまま他の変数に代入すると、アドレスごとコピーすることになるので要素が書き換わる\n",
    "i = [1, 2, 3, 4, 5]\n",
    "j = i\n",
    "j[0] = 100\n",
    "print('j = ', j)\n",
    "print('i = ', i)\n",
    "\n",
    "# listのcopy()メソッドを使うか、x[:]を使用して他変数に入れる\n",
    "x = [1, 2, 3, 4, 5]\n",
    "y = x.copy()\n",
    "y = x[:]\n",
    "y[0] = 100\n",
    "print('x = ', x)\n",
    "print('y = ', y)"
   ]
  },
  {
   "cell_type": "markdown",
   "metadata": {},
   "source": [
    "### タプル"
   ]
  },
  {
   "cell_type": "code",
   "execution_count": 94,
   "metadata": {},
   "outputs": [
    {
     "name": "stdout",
     "output_type": "stream",
     "text": [
      "(3, 4, 1)\n",
      "2\n",
      "4\n",
      "2\n",
      "(1, 2, 3)\n",
      "(1,)\n",
      "<class 'tuple'>\n",
      "<class 'int'>\n",
      "(1, 2, 3, 4, 5, 6)\n",
      "10 20\n",
      "10 20\n",
      "10 20\n",
      "20 10\n",
      "100 200\n",
      "200 100\n"
     ]
    }
   ],
   "source": [
    "# タプルはイミュータブル\n",
    "t = (1, 2, 3, 4, 1, 2)\n",
    "\n",
    "# スライス可能\n",
    "print(t[2:5])\n",
    "print(t[-1])\n",
    "\n",
    "# 要素のインデックス番号の検索\n",
    "print(t.index(1, 2))\n",
    "\n",
    "# 要素のカウント\n",
    "print(t.count(1))\n",
    "\n",
    "# タプルの宣言, カンマをつけた時点でタプルになる\n",
    "t = 1, 2, 3\n",
    "print(t)\n",
    "\n",
    "# カンマをつけると、タプルと認識されてしまう　\n",
    "t = 1, \n",
    "print(t)\n",
    "\n",
    "# 空要素のタプルに値を入れることができる\n",
    "t = ()\n",
    "print(type(t))\n",
    "t = (1)\n",
    "print(type(t))\n",
    "\n",
    "# タプル同士の足し合わせ\n",
    "new_tuple = (1, 2, 3) + (4, 5, 6)\n",
    "print(new_tuple)\n",
    "\n",
    "# タプルのアンパッキング\n",
    "num_tuple = (10, 20)\n",
    "x, y= num_tuple\n",
    "print(x, y)\n",
    "\n",
    "x, y = (10, 20)\n",
    "print(x, y)\n",
    "\n",
    "# カンマでタプルを展開するという意味になる\n",
    "x, y = 10, 20\n",
    "print(x, y)\n",
    "\n",
    "# 変数の入れ替え. \n",
    "i = 10\n",
    "j = 20\n",
    "tmp = i\n",
    "i = j\n",
    "j = tmp\n",
    "print(i, j)\n",
    "\n",
    "# タプルのアンパッキングを使うと、入れ替えが簡単になる\n",
    "a = 100\n",
    "b = 200\n",
    "print(a, b)\n",
    "a,b = b, a\n",
    "print(a, b)"
   ]
  },
  {
   "cell_type": "markdown",
   "metadata": {},
   "source": [
    "### 辞書型"
   ]
  },
  {
   "cell_type": "code",
   "execution_count": 114,
   "metadata": {},
   "outputs": [
    {
     "name": "stdout",
     "output_type": "stream",
     "text": [
      "<class 'dict'>\n",
      "{'x': 200, 'y': 20}\n",
      "{'x': 200, 'y': 20, 'z': 300}\n",
      "{'a': 10, 'b': 20}\n",
      "{'a': 10, 'b': 20}\n",
      "dict_keys(['x', 'y', 'z'])\n",
      "dict_values([200, 20, 300])\n",
      "{'x': 1000, 'j': 500}\n",
      "{'x': 1000, 'y': 20, 'z': 300, 'j': 500}\n",
      "1000\n",
      "None\n",
      "1000\n",
      "{'y': 20, 'z': 300, 'j': 500}\n",
      "{}\n",
      "True\n",
      "False\n",
      "{'a': 1000} {'a': 1000}\n",
      "{'a': 1} {'a': 1000}\n"
     ]
    }
   ],
   "source": [
    "d = {'x' : 10, 'y' : 20}\n",
    "print(type(d))\n",
    "\n",
    "# 辞書の要素の代入\n",
    "d['x'] = 200\n",
    "print(d)\n",
    "\n",
    "d['z'] = 300\n",
    "print(d)\n",
    "\n",
    "# 辞書の作成\n",
    "print(dict(a=10, b=20))\n",
    "print(dict([('a', 10), ('b', 20)]))\n",
    "\n",
    "# キーと要素の取り出し\n",
    "print(d.keys())\n",
    "print(d.values())\n",
    "\n",
    "# 2つの辞書を合わせる\n",
    "d2 = {'x' : 1000, 'j' : 500}\n",
    "print(d2)\n",
    "d.update(d2)\n",
    "print(d)\n",
    "\n",
    "# get で指定したkeyの値をとる、keyがない場合はNoneを返す\n",
    "print(d.get('x'))\n",
    "print(d.get('new'))\n",
    "\n",
    "# popで指定したキーの要素を取り出して　、削除する\n",
    "print(d.pop('x'))\n",
    "print(d)\n",
    "\n",
    "#辞書の要素をクリアする\n",
    "d = {'a' : 100, 'b' : 200}\n",
    "d.clear()\n",
    "print(d)\n",
    "\n",
    "# キーが辞書にあるかどうかを判定\n",
    "d = {'a' : 100, 'b' : 200}\n",
    "print('a' in d)\n",
    "print('c' in d)\n",
    "\n",
    "# 辞書をそのまま別の変数に入れると、アドレスごとコピーされる\n",
    "x = {'a' : 1}\n",
    "y = x\n",
    "y['a'] = 1000\n",
    "print(x, y )\n",
    "\n",
    "# copy()メソッドすると、別のアドレスの辞書として作成される\n",
    "x = {'a' : 1}\n",
    "y = x.copy()\n",
    "y['a'] = 1000\n",
    "print(x, y )"
   ]
  },
  {
   "cell_type": "markdown",
   "metadata": {},
   "source": [
    "### 辞書型"
   ]
  },
  {
   "cell_type": "code",
   "execution_count": 129,
   "metadata": {},
   "outputs": [
    {
     "name": "stdout",
     "output_type": "stream",
     "text": [
      "{1, 2, 3, 4, 5, 6} <class 'set'>\n",
      "{1, 4, 5}\n",
      "set()\n",
      "{2, 3, 6}\n",
      "{1, 2, 3, 4, 5, 6}\n",
      "{1, 4, 5}\n",
      "{1, 2, 3, 4, 5, 6}\n",
      "{1, 2, 3, 4, 5}\n",
      "set()\n"
     ]
    }
   ],
   "source": [
    "a = {1, 2, 2, 3, 4, 4, 5, 6}\n",
    "b = {2, 3, 3, 6, 6}\n",
    "print(a, type(a))\n",
    "\n",
    "# aの要素からbの要素を減らす\n",
    "print(a - b)\n",
    "print(b - a)\n",
    "\n",
    "# 積集合　共通の要素、a and bの要素を取り出す アンパサンズ\n",
    "print(a & b)\n",
    "\n",
    "# 和集合\n",
    "print(a | b)\n",
    "\n",
    "# a の排他のb. どちらかにはあり、重複していない要素を出力する\n",
    "print(a ^ b)\n",
    "\n",
    "s = {1, 2, 3, 4, 5}\n",
    "\n",
    "# 集合に要素を追加\n",
    "s.add(6)\n",
    "print(s)\n",
    "\n",
    "# 要素の削除\n",
    "s.remove(6)\n",
    "print(s)\n",
    "\n",
    "# 要素を全て削除\n",
    "s.clear()\n",
    "print(s)"
   ]
  },
  {
   "cell_type": "markdown",
   "metadata": {},
   "source": [
    "## セクション4 : 制御フロー"
   ]
  },
  {
   "cell_type": "markdown",
   "metadata": {},
   "source": [
    "### コメント"
   ]
  },
  {
   "cell_type": "code",
   "execution_count": 139,
   "metadata": {},
   "outputs": [
    {
     "name": "stdout",
     "output_type": "stream",
     "text": [
      "aaaaaaaaabbbbbbbbbb\n",
      "9\n"
     ]
    }
   ],
   "source": [
    "# コメントは変数の上に書くのがPythonのルール\n",
    "# apple price\n",
    "some_value = 100 # apple price ←悪手\n",
    "\n",
    "# 複数行に跨がる場合はバックスラッシュを用いる\n",
    "# 80文字以上は次の行にいくのがルール\n",
    "s = 'aaaaaaaaa' \\\n",
    "+ 'bbbbbbbbbb'\n",
    "print(s)\n",
    "\n",
    "#  パレンティスで囲っても複数行で書くことができる.\n",
    "x = (1 + 1+ 1 + 1 + 1\n",
    "    + 1 + 1 + 1 + 1)\n",
    "print(x)\n",
    "    "
   ]
  },
  {
   "cell_type": "markdown",
   "metadata": {},
   "source": [
    "### not と in"
   ]
  },
  {
   "cell_type": "code",
   "execution_count": 144,
   "metadata": {},
   "outputs": [
    {
     "name": "stdout",
     "output_type": "stream",
     "text": [
      "True\n",
      "True\n",
      "Not equal\n",
      "Not equal\n",
      "hello\n",
      "OK\n",
      "OK\n"
     ]
    }
   ],
   "source": [
    "y = [1, 2, 3]\n",
    "x = 1\n",
    "# 要素が含まれているかどうか\n",
    "print(x in y)\n",
    "\n",
    "# 含まれていない場合はnot in \n",
    "print(100 not in y)\n",
    "\n",
    "a = 1\n",
    "b = 2\n",
    "# 数字の条件式でnotを使うのは推奨されない\n",
    "if not a == b:\n",
    "    print('Not equal')\n",
    "    \n",
    "if a != b:\n",
    "    print('Not equal')\n",
    "\n",
    "is_ok = True\n",
    "# boolean型の判定をするときはnotを使う\n",
    "if is_ok == True:\n",
    "    print('hello')\n",
    "\n",
    "if not is_ok:\n",
    "    print('hello')\n",
    "    \n",
    "# 変数に何か入っている場合はPythonはTrueと判定する\n",
    "is_ok = 1020\n",
    "if is_ok:\n",
    "    print('OK')\n",
    "else:\n",
    "    printt('NO')\n",
    "\n",
    "# リストに要素が入っているかどうかはlen>0を使わない\n",
    "is_list = [1, 2, 3, 5]\n",
    "if is_list:\n",
    "    print('OK')\n",
    "else:\n",
    "    printt('NO')"
   ]
  },
  {
   "cell_type": "markdown",
   "metadata": {},
   "source": [
    "### Noneの判定"
   ]
  },
  {
   "cell_type": "code",
   "execution_count": 149,
   "metadata": {},
   "outputs": [
    {
     "name": "stdout",
     "output_type": "stream",
     "text": [
      "<class 'NoneType'>\n",
      "None!\n",
      "None!\n",
      "True\n",
      "False\n",
      "True\n",
      "True\n"
     ]
    }
   ],
   "source": [
    "is_empty  = None\n",
    "print(type(is_empty))\n",
    "\n",
    "# PythonではNoneを=で判定するのは推奨されない\n",
    "if is_empty == None:\n",
    "    print('None!')\n",
    "\n",
    "# is が推奨される. isでNoneオブジェクトか判定する\n",
    "if is_empty is None:\n",
    "    print('None!')\n",
    "\n",
    "# is はオブジェクト同士が同じである時に真とする\n",
    "print(1 == True)\n",
    "print(1 is True)\n",
    "print(True is True)\n",
    "print(None is None)"
   ]
  },
  {
   "cell_type": "markdown",
   "metadata": {},
   "source": [
    "### while と break"
   ]
  },
  {
   "cell_type": "code",
   "execution_count": 153,
   "metadata": {},
   "outputs": [
    {
     "name": "stdout",
     "output_type": "stream",
     "text": [
      "0\n",
      "1\n",
      "2\n",
      "3\n",
      "4\n",
      "0\n",
      "1\n",
      "3\n",
      "4\n",
      "5\n"
     ]
    }
   ],
   "source": [
    "count = 0\n",
    "\n",
    "while count < 5:\n",
    "    print(count)\n",
    "    count += 1\n",
    "    \n",
    "\n",
    "# while文にbreakの条件を入れて同様の操作を行うことができる\n",
    "count = 0\n",
    "while True:\n",
    "    if count > 5:\n",
    "        break\n",
    "    \n",
    "    # continueは下の処理を実行せずに次のループに飛ぶ\n",
    "    if count == 2:\n",
    "        count  += 1\n",
    "        continue\n",
    "    print(count)\n",
    "    count += 1"
   ]
  },
  {
   "cell_type": "markdown",
   "metadata": {},
   "source": [
    "### while と else"
   ]
  },
  {
   "cell_type": "code",
   "execution_count": 157,
   "metadata": {},
   "outputs": [
    {
     "name": "stdout",
     "output_type": "stream",
     "text": [
      "0\n",
      "1\n",
      "2\n",
      "3\n",
      "4\n",
      "done\n",
      "0\n"
     ]
    }
   ],
   "source": [
    "count = 0\n",
    "while count < 5:\n",
    "    print(count)\n",
    "    count += 1\n",
    "\n",
    "else:\n",
    "    print('done')\n",
    "    \n",
    "# else はwhileでループをしている中で、breakで抜けなかった場合に実行を行う\n",
    "count = 0\n",
    "while count < 5:\n",
    "    if count == 1:\n",
    "        break\n",
    "    print(count)\n",
    "    count += 1\n",
    "\n",
    "else:\n",
    "    print('done')"
   ]
  },
  {
   "cell_type": "markdown",
   "metadata": {},
   "source": [
    "### input"
   ]
  },
  {
   "cell_type": "code",
   "execution_count": 164,
   "metadata": {},
   "outputs": [
    {
     "name": "stdout",
     "output_type": "stream",
     "text": [
      "Enter:100\n"
     ]
    }
   ],
   "source": [
    "# input の値でwhileを抜ける構造\n",
    "while True:\n",
    "    # string型で入力を受け付ける\n",
    "    word = input('Enter:')\n",
    "    num = int(word)\n",
    "    if num == 100:\n",
    "        break\n",
    "    print('next')"
   ]
  },
  {
   "cell_type": "markdown",
   "metadata": {},
   "source": [
    "### for else 文  "
   ]
  },
  {
   "cell_type": "code",
   "execution_count": 168,
   "metadata": {},
   "outputs": [
    {
     "name": "stdout",
     "output_type": "stream",
     "text": [
      "a\n",
      "b\n",
      "c\n",
      "d\n",
      "done\n",
      "a\n",
      "b\n",
      "break point\n"
     ]
    }
   ],
   "source": [
    "for elem in ['a', 'b', 'c', 'd']:\n",
    "    print(elem)\n",
    "\n",
    "else:\n",
    "    print('done')\n",
    "    \n",
    "# elseはfor ループがbreakされず終わった場合に実行される\n",
    "for elem in ['a', 'b', 'c', 'd']:\n",
    "    if elem == 'c':\n",
    "        print('break point')\n",
    "        break\n",
    "    print(elem)\n",
    "else:\n",
    "    print('done')\n",
    "    "
   ]
  },
  {
   "cell_type": "markdown",
   "metadata": {},
   "source": [
    "### range, enumerate, zip, 辞書型のfor 文"
   ]
  },
  {
   "cell_type": "code",
   "execution_count": 175,
   "metadata": {},
   "outputs": [
    {
     "name": "stdout",
     "output_type": "stream",
     "text": [
      "hello\n",
      "hello\n",
      "0 apple\n",
      "1 banana\n",
      "2 orange\n",
      "mon banana\n",
      "tue  orange\n",
      "wed apple\n",
      "dict_items([('x', 100), ('y', 200)])\n",
      "x 100\n",
      "y 200\n"
     ]
    }
   ],
   "source": [
    "for i in range(1, 5, 2):\n",
    "    print('hello')\n",
    "    \n",
    "for i, fruit in enumerate(['apple', 'banana', 'orange']):\n",
    "    print(i, fruit)\n",
    "    \n",
    "days= ['mon', 'tue', 'wed']\n",
    "fruits = ['banana', ' orange', 'apple']\n",
    "for day, fruit in zip(days, fruits):\n",
    "    print(day, fruit)\n",
    "    \n",
    "\n",
    "# d.items()がタプルのリストを返して、タプルなのでアンパッキングを使える\n",
    "d = {'x' : 100, 'y':200}\n",
    "print(d.items())\n",
    "for k, v in d.items():\n",
    "    print(k, v)"
   ]
  },
  {
   "cell_type": "markdown",
   "metadata": {},
   "source": [
    "### 関数定義"
   ]
  },
  {
   "cell_type": "code",
   "execution_count": 187,
   "metadata": {},
   "outputs": [
    {
     "name": "stdout",
     "output_type": "stream",
     "text": [
      "<class 'function'>\n",
      "hi\n",
      "39\n",
      "ab\n",
      "[100]\n",
      "[100, 100]\n",
      "[100]\n",
      "[100]\n"
     ]
    }
   ],
   "source": [
    "def say_something():\n",
    "    s = 'hi'\n",
    "    return s\n",
    "\n",
    "# ()をつけないと、関数のオブジェクトと作成される\n",
    "f = say_something\n",
    "print(type(f))\n",
    "print(f())\n",
    "\n",
    "# 関数の引数に変数指定できるが、他の型を入れてもエラーを出さないので注意\n",
    "def add_num(a: int, b: int) -> int:\n",
    "    return a + b\n",
    "\n",
    "r = add_num(10, 29)\n",
    "print(r)\n",
    "\n",
    "r = add_num('a', 'b')\n",
    "print(r)\n",
    "\n",
    "# リストはデファルト引数で与えてはいけない\n",
    "# デフォルト引数は関数が初めに読み込まれた時に参照されたアドレスを使い続けるので、\n",
    "# 複数回関数を使用すると同じアドレスの変数を利用することになる\n",
    "def test_func(x, l=[]):\n",
    "    l.append(x)\n",
    "    return l\n",
    "\n",
    "r = test_func(100)\n",
    "print(r)\n",
    "r = test_func(100)\n",
    "print(r)\n",
    "\n",
    "# 空のリストを関数が呼ばる都度、初期化したい場合Noneを用いる\n",
    "def test_func(x, l=None):\n",
    "    if l is None:\n",
    "        l = []\n",
    "    l.append(x)\n",
    "    return l\n",
    "\n",
    "r = test_func(100)\n",
    "print(r)\n",
    "r = test_func(100)\n",
    "print(r)\n"
   ]
  },
  {
   "cell_type": "markdown",
   "metadata": {},
   "source": [
    "### 位置引数のタプル化"
   ]
  },
  {
   "cell_type": "code",
   "execution_count": 194,
   "metadata": {},
   "outputs": [
    {
     "name": "stdout",
     "output_type": "stream",
     "text": [
      "Hi\n",
      "Mike\n",
      "nance\n",
      "word = Hi\n",
      "Mike\n",
      "nance\n",
      "word = Hi\n",
      "Mike\n",
      "nance\n"
     ]
    }
   ],
   "source": [
    "def say_something(word1, word2, word3):\n",
    "    print(word1)\n",
    "    print(word2)\n",
    "    print(word3)\n",
    "    \n",
    "say_something('Hi', 'Mike', \"nance\")\n",
    "\n",
    "# 特定の引き数以外に、別の引数がくるときはアスタリスクを付ければタプルにまとめることができる\n",
    "def say_something(word, *args):\n",
    "    print('word =', word)\n",
    "    for arg in args:\n",
    "        print(arg)\n",
    "\n",
    "# 引数をタプル化してくれる\n",
    "say_something('Hi', 'Mike', \"nance\")\n",
    "\n",
    "#  今は使われていないタプルの引数のわたしかた\n",
    "t = ('Mike', \"nance\")\n",
    "say_something('Hi', *t)"
   ]
  },
  {
   "cell_type": "markdown",
   "metadata": {},
   "source": [
    "### キーワード引数の辞書化"
   ]
  },
  {
   "cell_type": "code",
   "execution_count": 200,
   "metadata": {},
   "outputs": [
    {
     "name": "stdout",
     "output_type": "stream",
     "text": [
      "{'entree': 'beef', 'drink': 'cofee'}\n",
      "entree beef\n",
      "drink cofee\n",
      "{'entree': 'beef', 'drink': 'ice cofee', 'sessert': 'ice'}\n",
      "entree beef\n",
      "drink ice cofee\n",
      "sessert ice\n",
      "banana\n",
      "('apple', 'orange')\n",
      "{'entree': 'beef', 'drink': 'cofee'}\n"
     ]
    }
   ],
   "source": [
    "# 引数を地所型として受け取ることができる\n",
    "def menu(**kwargs):\n",
    "    print(kwargs)\n",
    "    for k, v in kwargs.items():\n",
    "        print(k, v)\n",
    "menu(entree='beef', drink='cofee')\n",
    "\n",
    "# 辞書にアスタリスク2つつけて関数に渡す場合が多い\n",
    "d = {\n",
    "    'entree' : 'beef',\n",
    "    'drink' : 'ice cofee',\n",
    "    'sessert' : 'ice'\n",
    "}\n",
    "menu(**d)\n",
    "\n",
    "# 位置引数、タプル化、辞書型で受け取る引数をまとめることができる\n",
    "def menu(food, *args, **kwargs):\n",
    "    print(food)\n",
    "    print(args)\n",
    "    print(kwargs)\n",
    "    \n",
    "menu('banana', 'apple', 'orange', entree='beef', drink='cofee')"
   ]
  },
  {
   "cell_type": "markdown",
   "metadata": {},
   "source": [
    "### docstring"
   ]
  },
  {
   "cell_type": "code",
   "execution_count": 205,
   "metadata": {},
   "outputs": [
    {
     "name": "stdout",
     "output_type": "stream",
     "text": [
      "Example function wtih types documented in docstring\n",
      "    \n",
      "    Args:\n",
      "        params1 (int): The first paramter\n",
      "        params2 (int): The second parameter\n",
      "\n",
      "    Returns:\n",
      "        bool: The return value, True for success, False otherwise\n",
      "    \n",
      "Help on function example_func in module __main__:\n",
      "\n",
      "example_func(param1, param2)\n",
      "    Example function wtih types documented in docstring\n",
      "    \n",
      "    Args:\n",
      "        params1 (int): The first paramter\n",
      "        params2 (int): The second parameter\n",
      "    \n",
      "    Returns:\n",
      "        bool: The return value, True for success, False otherwise\n",
      "\n"
     ]
    }
   ],
   "source": [
    "def example_func(param1, param2):\n",
    "    '''Example function wtih types documented in docstring\n",
    "    \n",
    "    Args:\n",
    "        params1 (int): The first paramter\n",
    "        params2 (int): The second parameter\n",
    "\n",
    "    Returns:\n",
    "        bool: The return value, True for success, False otherwise\n",
    "    '''\n",
    "    \n",
    "    print(param1)\n",
    "    print(param2)\n",
    "    return True\n",
    "\n",
    "# __doc__メソッドでdocstringを出力できる\n",
    "print(example_func.__doc__)\n",
    "help(example_func)"
   ]
  },
  {
   "cell_type": "markdown",
   "metadata": {},
   "source": [
    "### 関数内関数\n",
    "使う場面：特定の関数内でしか使わない処理の場合"
   ]
  },
  {
   "cell_type": "code",
   "execution_count": 206,
   "metadata": {},
   "outputs": [
    {
     "name": "stdout",
     "output_type": "stream",
     "text": [
      "3\n"
     ]
    }
   ],
   "source": [
    "def outer(a, b):\n",
    "    def plus(c, d):\n",
    "        return c + d\n",
    "    r = plus(a, b)\n",
    "    print(r)\n",
    "    \n",
    "outer(1, 2)"
   ]
  },
  {
   "cell_type": "markdown",
   "metadata": {},
   "source": [
    "### クロージャー\n",
    "関数の処理をまだ実行したくない場合に、クロージャーが使われる"
   ]
  },
  {
   "cell_type": "code",
   "execution_count": 211,
   "metadata": {},
   "outputs": [
    {
     "name": "stdout",
     "output_type": "stream",
     "text": [
      "3\n",
      "314.0\n",
      "314.1592\n"
     ]
    }
   ],
   "source": [
    "# 関数ない関数を返す関数を作成する\n",
    "def outer(a, b):\n",
    "    \n",
    "    def inner():\n",
    "        return a + b\n",
    "\n",
    "    return inner\n",
    "\n",
    "# outerのa,b が初期化され、inner関数が返される\n",
    "f = outer(1, 2)\n",
    "# innerが実行される\n",
    "r = f()\n",
    "print(r)\n",
    "\n",
    "\n",
    "def circle_area_func(pi):\n",
    "    def circle_area(radius):\n",
    "        return pi * radius * radius\n",
    "    \n",
    "    return circle_area\n",
    "\n",
    "cal = circle_area_func(3.14)\n",
    "cal2 = circle_area_func(3.141592)\n",
    "\n",
    "print(cal(10))\n",
    "print(cal2(10))"
   ]
  },
  {
   "cell_type": "markdown",
   "metadata": {},
   "source": [
    "### デコレーター\n",
    "関数を実行した際に、別で実行される処理  \n",
    "デコレータの順序によって処理が異なるので気を付ける"
   ]
  },
  {
   "cell_type": "code",
   "execution_count": 222,
   "metadata": {},
   "outputs": [
    {
     "name": "stdout",
     "output_type": "stream",
     "text": [
      "start\n",
      "end\n",
      "30\n",
      "--------------------\n",
      "start\n",
      "func: add_num_deco\n",
      "args: (10, 20)\n",
      "kwargs: {}\n",
      "result: 30\n",
      "end\n",
      "30\n",
      "--------------------\n",
      "func: wrapper\n",
      "args: (10, 20)\n",
      "kwargs: {}\n",
      "start\n",
      "end\n",
      "result: -10\n",
      "-10\n"
     ]
    }
   ],
   "source": [
    "# デコレータ関数\n",
    "def print_info(func):\n",
    "    # 関数の前後での実行内容を記載する\n",
    "    def wrapper(*args, **kwargs):\n",
    "        print('start')\n",
    "        result = func(*args, **kwargs)\n",
    "        print('end')\n",
    "        return result\n",
    "    return wrapper\n",
    "\n",
    "def print_more(func):\n",
    "    def wrapper(*args, **kwargs):\n",
    "        print('func:', func.__name__)\n",
    "        print('args:', args)\n",
    "        print('kwargs:', kwargs)\n",
    "        result = func(*args, **kwargs)\n",
    "        print('result:', result)\n",
    "        return result\n",
    "\n",
    "    return wrapper\n",
    "\n",
    "def add_num(a, b):\n",
    "    return a + b\n",
    "\n",
    "# inner関数を返す\n",
    "f = print_info(add_num)\n",
    "# inner関数を実行する\n",
    "r = f(10, 20)\n",
    "print(r)\n",
    "\n",
    "print('-' * 20)\n",
    "@print_info\n",
    "@print_more\n",
    "def add_num_deco(a, b):\n",
    "    return a + b\n",
    "\n",
    "@print_more\n",
    "@print_info\n",
    "def sub_num_deco(a, b):\n",
    "    return a - b\n",
    "\n",
    "r = add_num_deco(10, 20)\n",
    "print(r)\n",
    "\n",
    "print('-' * 20)\n",
    "\n",
    "r = sub_num_deco(10, 20)\n",
    "print(r)"
   ]
  },
  {
   "cell_type": "markdown",
   "metadata": {},
   "source": [
    "### ラムダ"
   ]
  },
  {
   "cell_type": "code",
   "execution_count": 228,
   "metadata": {},
   "outputs": [
    {
     "name": "stdout",
     "output_type": "stream",
     "text": [
      "Mon\n",
      "Tue\n",
      "Wed\n",
      "Thu\n",
      "Fri\n",
      "Sat\n",
      "Sun\n",
      "--------------------\n",
      "Mon\n",
      "Tue\n",
      "Wed\n",
      "Thu\n",
      "Fri\n",
      "Sat\n",
      "Sun\n",
      "--------------------\n",
      "Mon\n",
      "Tue\n",
      "Wed\n",
      "Thu\n",
      "Fri\n",
      "Sat\n",
      "Sun\n",
      "--------------------\n",
      "mon\n",
      "tue\n",
      "wed\n",
      "thu\n",
      "fri\n",
      "sat\n",
      "sun\n",
      "--------------------\n"
     ]
    }
   ],
   "source": [
    "l = ['Mon', 'tue', 'Wed', 'Thu', 'fri', 'sat', 'Sun']\n",
    "\n",
    "# 関数を引数に受けとって、関数内で受け取った関数を実行する\n",
    "def change_words(words, func):\n",
    "    for word in words:\n",
    "        print(func(word))\n",
    "    print('-' * 20)\n",
    "                    \n",
    "def sample_func(word):\n",
    "    return word.capitalize()\n",
    "change_words(l, sample_func)\n",
    "\n",
    "\n",
    "# 単純な関数はlmabdaを使えば１行で書くことができる\n",
    "sample_func_lambda = lambda word: word.capitalize()\n",
    "change_words(l, sample_func_lambda)\n",
    "\n",
    "\n",
    "change_words(l, lambda word: word.capitalize())\n",
    "\n",
    "change_words(l, lambda word: word.lower())"
   ]
  },
  {
   "cell_type": "markdown",
   "metadata": {},
   "source": [
    "### ジェネーター\n",
    "ジェネレーターはイテレータの要素"
   ]
  },
  {
   "cell_type": "code",
   "execution_count": 238,
   "metadata": {},
   "outputs": [
    {
     "name": "stdout",
     "output_type": "stream",
     "text": [
      "good morning\n",
      "good afternoon\n",
      "good night\n",
      "God morning\n",
      "good afternoon\n",
      "good night\n",
      "God morning\n",
      "##########\n",
      "good afternoon\n",
      "good night\n",
      "run\n"
     ]
    }
   ],
   "source": [
    "l = ['good morning', 'good afternoon', 'good night']\n",
    "for i in l:\n",
    "    print(i)\n",
    "    \n",
    "# ジェネレーター\n",
    "def greeting():\n",
    "    yield 'God morning'\n",
    "    yield 'good afternoon'\n",
    "    yield 'good night'\n",
    "    \n",
    "for g in greeting():\n",
    "    print(g)\n",
    "\n",
    "# ジェネレータの場合は処理を自分のタイミングで進めることができる\n",
    "g = greeting()\n",
    "print(next(g))\n",
    "print('#' * 10)\n",
    "print(next(g))\n",
    "print(next(g))\n",
    "\n",
    "def counter(num=10):\n",
    "    for _ in range(num):\n",
    "        yield 'run'\n",
    "\n",
    "c = counter()\n",
    "print(next(c))"
   ]
  },
  {
   "cell_type": "markdown",
   "metadata": {},
   "source": [
    "### リスト内方表記\n",
    "短いforループの場合は、リスト内方表記の方がメモリコストが小さい  \n",
    "コードが醜くなる場合は、forループを使う"
   ]
  },
  {
   "cell_type": "code",
   "execution_count": 245,
   "metadata": {},
   "outputs": [
    {
     "name": "stdout",
     "output_type": "stream",
     "text": [
      "[2, 4]\n",
      "[2, 4]\n",
      "[6, 7, 8, 9, 10, 12, 14, 16, 18, 20, 18, 21, 24, 27, 30, 24, 28, 32, 36, 40, 30, 35, 40, 45, 50]\n",
      "[6, 7, 8, 9, 10, 12, 14, 16, 18, 20, 18, 21, 24, 27, 30, 24, 28, 32, 36, 40, 30, 35, 40, 45, 50]\n"
     ]
    }
   ],
   "source": [
    "t = [1, 2, 3, 4, 5]\n",
    "t2 = [6, 7, 8, 9, 10]\n",
    "\n",
    "# for ループの条件式は内方表記の最後につける\n",
    "r = []\n",
    "for i in t:\n",
    "    if i % 2 == 0:\n",
    "        r.append(i)\n",
    "    \n",
    "print(r)\n",
    "\n",
    "r2 = [i for i in t if i % 2 == 0]\n",
    "print(r2)\n",
    "\n",
    "#  2変数のリスト内方表記も可能\n",
    "r = []\n",
    "for i in t:\n",
    "    for j in t2:\n",
    "        r.append(i * j)\n",
    "print(r)\n",
    "\n",
    "r = [i * j for i in t for j in t2]\n",
    "print(r)\n"
   ]
  },
  {
   "cell_type": "markdown",
   "metadata": {},
   "source": [
    "### 辞書・集合・ジェネレーター内方表記"
   ]
  },
  {
   "cell_type": "code",
   "execution_count": 265,
   "metadata": {},
   "outputs": [
    {
     "name": "stdout",
     "output_type": "stream",
     "text": [
      "{'mon': 'coffee', 'tue': 'milk', 'wed': 'water'}\n",
      "{'mon': 'coffee', 'tue': 'milk', 'wed': 'water'}\n",
      "{0, 2, 4, 6, 8}\n",
      "{0, 2, 4, 6, 8}\n",
      "<class 'generator'>\n",
      "0\n",
      "2\n",
      "4\n",
      "<class 'tuple'>\n"
     ]
    }
   ],
   "source": [
    "w = ['mon', 'tue', 'wed']\n",
    "f = ['coffee', 'milk', 'water']\n",
    "\n",
    "# 辞書型\n",
    "d = {}\n",
    "for x, y in zip(w, f):\n",
    "    d[x] = y\n",
    "print(d)\n",
    "\n",
    "d = {x: y for x, y in zip(w, f)}\n",
    "print(d)\n",
    "\n",
    "# 集合型\n",
    "s = set()\n",
    "for i in range(10):\n",
    "    if i % 2 == 0:\n",
    "        s.add(i)\n",
    "print(s)    \n",
    "    \n",
    "s = {i for i in range(10) if i % 2 == 0}\n",
    "print(s)\n",
    "\n",
    "# ジェネレーター\n",
    "def g():\n",
    "    for i in range(10):\n",
    "        yield i\n",
    "        \n",
    "g = g()\n",
    "\n",
    "# パレンティスで括るとジェネレーターになる\n",
    "g = (i for i in range(10) if i % 2 ==0)\n",
    "print(type(g))\n",
    "print(next(g))\n",
    "print(next(g))\n",
    "print(next(g))\n",
    "\n",
    "g = tuple(i for i in range(10))\n",
    "print(type(g))\n"
   ]
  },
  {
   "cell_type": "markdown",
   "metadata": {},
   "source": [
    "### 名前空間とスコープ"
   ]
  },
  {
   "cell_type": "code",
   "execution_count": 283,
   "metadata": {},
   "outputs": [
    {
     "name": "stdout",
     "output_type": "stream",
     "text": [
      "cat\n",
      "after dog\n",
      "lcoal dog\n",
      "global dog\n",
      "lcoal {'animal': 'dog'}\n",
      "f5\n",
      "Test func doc\n"
     ]
    }
   ],
   "source": [
    "animal = 'cat'\n",
    "\n",
    "# functionないでグローバル変数を参照することができる\n",
    "def f():\n",
    "    print(animal)\n",
    "f()\n",
    "\n",
    "# ローカル変数でグローバル変数と同じ名前変数を使用するとエラーがおこる\n",
    "def f2():\n",
    "    #print(animal)\n",
    "    animal = 'dog'\n",
    "    print('after', animal)\n",
    "f2()\n",
    "\n",
    "# 関数内でグローバル変数を書き換えたい場合は、global で宣言する\n",
    "def f3():\n",
    "    global animal\n",
    "    animal = 'dog'\n",
    "    print('lcoal', animal)\n",
    "f3()\n",
    "print('global', animal)\n",
    "\n",
    "animal = 'cat'\n",
    "# locals()で関数内のローカル変数を返す\n",
    "def f4():\n",
    "    animal = 'dog'\n",
    "    print('lcoal', locals())\n",
    "    #print('global', globals())\n",
    "f4()\n",
    "\n",
    "def f5():\n",
    "    \"\"\"Test func doc\"\"\"\n",
    "    print(f5.__name__)\n",
    "    print(f5.__doc__)\n",
    "f5()\n"
   ]
  },
  {
   "cell_type": "markdown",
   "metadata": {},
   "source": [
    "### 例外処理\n",
    "Ptyhon 公式exception : https://docs.python.org/ja/3/library/exceptions.html  \n",
    "全ての場合の例外を記述するのは悪手とされている"
   ]
  },
  {
   "cell_type": "code",
   "execution_count": 309,
   "metadata": {},
   "outputs": [
    {
     "name": "stdout",
     "output_type": "stream",
     "text": [
      "Don't worry : list index out of range\n",
      "clean up\n"
     ]
    }
   ],
   "source": [
    "l = [1, 2, 3]\n",
    "i = 5\n",
    "\n",
    "# try文でエラーが発生した場合に、exceptを実行する. \n",
    "# finnalyの内容はエラーが起きても起きなくても必ず実行される\n",
    "# else文はtry文が実行できた時に実行される\n",
    "# 特定のエラーが出た場合の処理に制限できる\n",
    "# エラーメッセージを表示することができる\n",
    "try:\n",
    "    l[i]\n",
    "except IndexError as exc:\n",
    "    print(\"Don't worry : {}\".format(exc))\n",
    "except NameError as exc:\n",
    "    print(exc)\n",
    "except Exception as exc:\n",
    "    printn('other:{}'.format(exc))\n",
    "\n",
    "else:\n",
    "    print('done')\n",
    "finally:\n",
    "    print('clean up')\n",
    "    "
   ]
  },
  {
   "cell_type": "markdown",
   "metadata": {},
   "source": [
    "### 独自例外"
   ]
  },
  {
   "cell_type": "code",
   "execution_count": 322,
   "metadata": {},
   "outputs": [
    {
     "name": "stdout",
     "output_type": "stream",
     "text": [
      "This is my falut Go next.\n"
     ]
    }
   ],
   "source": [
    "# raiseで自分でエラ〜メッセージを作成できる\n",
    "# raise IndexError('test error')\n",
    "\n",
    "# Exceptionを継承する\n",
    "class UppercaseError(Exception):\n",
    "    pass\n",
    "\n",
    "def check():\n",
    "    words = ['APPLE', 'orange', 'banana']\n",
    "    for word in words:\n",
    "        if word.isupper():\n",
    "            raise UppercaseError(word)\n",
    "\n",
    "try:\n",
    "    check()\n",
    "except UppercaseError as exc:\n",
    "    print('This is my falut Go next.')\n"
   ]
  },
  {
   "cell_type": "markdown",
   "metadata": {},
   "source": [
    "### コマンドライン引数\n",
    "sys.argvには第一要素はpython ファイル名が入る"
   ]
  },
  {
   "cell_type": "code",
   "execution_count": 323,
   "metadata": {},
   "outputs": [
    {
     "name": "stdout",
     "output_type": "stream",
     "text": [
      "['/Users/satsuki/anaconda3/envs/gpu-env/lib/python3.6/site-packages/ipykernel_launcher.py', '-f', '/Users/satsuki/Library/Jupyter/runtime/kernel-d603f2ad-7365-4615-91a4-f8150a2c2b62.json']\n"
     ]
    }
   ],
   "source": [
    "import sys\n",
    "print(sys.argv)"
   ]
  },
  {
   "cell_type": "markdown",
   "metadata": {},
   "source": [
    "## セクション5  : モジュールとパッケージ"
   ]
  },
  {
   "cell_type": "markdown",
   "metadata": {},
   "source": [
    "### import と AS\n",
    "packagesフォルダにあるutils.pyをimport する場合  \n",
    "モジュールで読み込む時にはフルパスで読むと長くなるので、モジュール単位で読み込むのが推奨されている　　\n",
    "\n",
    "現在のパスよりの上の階層のフォルダからimport する場合はfrom ..tools import utilsとする"
   ]
  },
  {
   "cell_type": "code",
   "execution_count": null,
   "metadata": {},
   "outputs": [],
   "source": [
    "# 推奨\n",
    "from pacages import utils\n",
    "# 非推奨\n",
    "import pacages.utils\n",
    "# 非推奨\n",
    "from pacages import utils as ut\n",
    "\n",
    "# 上位のフォルダからimport する場合\n",
    "from ..tools import utils\n",
    "\n",
    "# 非推奨. モジュール内の関数を全てimport する場合\n",
    "from utils import *"
   ]
  },
  {
   "cell_type": "markdown",
   "metadata": {},
   "source": [
    "### ImportError\n",
    "バージョンの違いによってモジュールの名前が異なる時に読み込みを変えることができる"
   ]
  },
  {
   "cell_type": "code",
   "execution_count": null,
   "metadata": {},
   "outputs": [],
   "source": [
    "try:\n",
    "    from packages import utils\n",
    "except ImportError:\n",
    "    from new_packages import utils"
   ]
  },
  {
   "cell_type": "markdown",
   "metadata": {},
   "source": [
    "### 組み込み関数\n",
    "Pythonの組み込みモジュールはbuiltinsなので、暗黙のうちにimport しているのと同じ\n",
    "https://docs.python.org/ja/3/library/functions.html　　"
   ]
  },
  {
   "cell_type": "code",
   "execution_count": 331,
   "metadata": {},
   "outputs": [
    {
     "name": "stdout",
     "output_type": "stream",
     "text": [
      "\n",
      "['B', 'C', 'A']\n",
      "['A', 'C', 'B']\n"
     ]
    }
   ],
   "source": [
    "import builtins\n",
    "builtins.print()\n",
    "\n",
    "ranking = {\n",
    "    'A' : 100,\n",
    "    'B' : 85,\n",
    "    'C' : 95\n",
    "}\n",
    "\n",
    "# 辞書型をgetした時の値でソートする\n",
    "print(sorted(ranking, key=ranking.get))\n",
    "\n",
    "# 反対側にしたい場合はreverseを使う\n",
    "print(sorted(ranking, key=ranking.get, reverse=True))"
   ]
  },
  {
   "cell_type": "markdown",
   "metadata": {},
   "source": [
    "### 標準ライブラリ\n",
    "https://docs.python.org/ja/3/library/index.html　　　\n",
    "\n",
    "collections  \n",
    "https://docs.python.org/ja/3/library/collections.html  \n"
   ]
  },
  {
   "cell_type": "code",
   "execution_count": 335,
   "metadata": {},
   "outputs": [
    {
     "name": "stdout",
     "output_type": "stream",
     "text": [
      "{'f': 2, 'v': 1, 'g': 2, 'b': 1, 'h': 2, 'n': 1, 'j': 2, 'k': 2, 'l': 1, 'd': 1, 'r': 1, 'm': 1}\n",
      "{'f': 2, 'v': 1, 'g': 2, 'b': 1, 'h': 2, 'n': 1, 'j': 2, 'k': 2, 'l': 1, 'd': 1, 'r': 1, 'm': 1}\n",
      "defaultdict(<class 'int'>, {'f': 2, 'v': 1, 'g': 2, 'b': 1, 'h': 2, 'n': 1, 'j': 2, 'k': 2, 'l': 1, 'd': 1, 'r': 1, 'm': 1})\n"
     ]
    }
   ],
   "source": [
    "s = 'fvgbhnjkldfrghjkm'\n",
    "\n",
    "# 文字列中の単語の出現回数\n",
    "d = {}\n",
    "for c in s:\n",
    "    if c not in d:\n",
    "        d[c] = 0\n",
    "    d[c] += 1\n",
    "print(d)\n",
    "\n",
    "# setdefaultで辞書にキーがない場合に値を追加する\n",
    "d = {'f' : 0}\n",
    "for c in s:\n",
    "    d.setdefault(c, 0)\n",
    "    d[c] += 1\n",
    "print(d)\n",
    "\n",
    "# collectionsのdefaultdictで同じ操作を再現できる\n",
    "from collections import defaultdict\n",
    "d = defaultdict(int)\n",
    "\n",
    "for c in s:\n",
    "    d[c] += 1\n",
    "print(d)"
   ]
  },
  {
   "cell_type": "markdown",
   "metadata": {},
   "source": [
    "### importの注意点\n",
    "importする順番は、標準ライブラリ -> サードパーティ -> チームのパッケージ -> 自作のローカルのパッケージ"
   ]
  },
  {
   "cell_type": "code",
   "execution_count": null,
   "metadata": {},
   "outputs": [],
   "source": [
    "# 推奨　アルファベット順\n",
    "import collections\n",
    "import os\n",
    "import sys\n",
    "\n",
    "# サードパーティと標準ライブラリの間にスペースをいれる\n",
    "import termcolor\n",
    "\n",
    "# 自社のチームの作ったモジュールを入れる\n",
    "import packages\n",
    "\n",
    "# 最後にローカルのパッケージを入れる\n",
    "import config\n",
    "\n",
    "# 非推奨\n",
    "import collections, sys, os\n"
   ]
  },
  {
   "cell_type": "markdown",
   "metadata": {},
   "source": [
    "### __name__ と __main__\n",
    "作成したモジュール中に他からimport された時に実行されると困る場合は,  \n",
    "if __name__ == '__main__'を利用する"
   ]
  },
  {
   "cell_type": "code",
   "execution_count": 348,
   "metadata": {},
   "outputs": [
    {
     "name": "stdout",
     "output_type": "stream",
     "text": [
      "__main__\n",
      "execusion function\n"
     ]
    }
   ],
   "source": [
    "print(__name__)\n",
    "\n",
    "def functin():\n",
    "    print('execusion function')\n",
    "    \n",
    "def main():\n",
    "    functin()\n",
    "    \n",
    "if __name__ == '__main__':\n",
    "    main()"
   ]
  },
  {
   "cell_type": "markdown",
   "metadata": {},
   "source": [
    "## オブジェクトとクラス"
   ]
  },
  {
   "cell_type": "markdown",
   "metadata": {},
   "source": [
    "### クラス定義\n",
    "selfはクラス自身を意味する  \n"
   ]
  },
  {
   "cell_type": "code",
   "execution_count": 359,
   "metadata": {},
   "outputs": [
    {
     "name": "stdout",
     "output_type": "stream",
     "text": [
      "Mike\n",
      "I am Mike. hello\n",
      "runrunrunrunrunrunrunrunrunrun\n",
      "good bye\n"
     ]
    }
   ],
   "source": [
    "# Python3 ではobjectを継承しなくてもよい\n",
    "# objectを継承するを書いた方がいい暗黙の了解がある\n",
    "class Person(object):\n",
    "    # コンストラクタ：オブジェクトを作成した時に初めに実行される処理\n",
    "    def __init__(self, name):\n",
    "        self.name = name\n",
    "        print(self.name)\n",
    "    \n",
    "    def say_somethinng(self):\n",
    "        print('I am {}. hello'.format(self.name))\n",
    "        self.run(10)\n",
    "        \n",
    "    def run(self, num):\n",
    "        print('run' * num)\n",
    "        \n",
    "    # デストラクトタ：クラスを終了する際に実行される処理\n",
    "    def __del__(self):\n",
    "        print('good bye')\n",
    "        \n",
    "# オブジェクトを作成\n",
    "person = Person('Mike')\n",
    "person.say_somethinng()\n",
    "\n",
    "del person"
   ]
  },
  {
   "cell_type": "markdown",
   "metadata": {},
   "source": [
    "### 継承\n",
    "親クラスが持っている機能を子クラスが引き継いで拡張させる"
   ]
  },
  {
   "cell_type": "code",
   "execution_count": 365,
   "metadata": {},
   "outputs": [
    {
     "name": "stdout",
     "output_type": "stream",
     "text": [
      "run\n",
      "run\n",
      "run\n",
      "auto run\n"
     ]
    }
   ],
   "source": [
    "class Car(object):\n",
    "    def run(self):\n",
    "        print('run')\n",
    "\n",
    "class ToyotaCar(Car):\n",
    "    pass\n",
    "\n",
    "class TeslaCar(Car):\n",
    "    def auto_run(self):\n",
    "        print('auto run')\n",
    "        \n",
    "car = Car()\n",
    "car.run()\n",
    "\n",
    "# 子クラスは親クラスのメソッドを受け継いている\n",
    "toyota_car = ToyotaCar()\n",
    "toyota_car.run()\n",
    "\n",
    "# 子クラスに独自の関数を追加することができるe\n",
    "tesla_car = TeslaCar()\n",
    "tesla_car.run()\n",
    "tesla_car.auto_run()\n"
   ]
  },
  {
   "cell_type": "markdown",
   "metadata": {},
   "source": [
    "### メソッドのオーバーライド、superによる親メソッドの呼び出し　\n",
    "継承した親クラスの関数と同じ名前の関数を子クラスでも作成すると、別の処理を上書きできる  \n",
    "インスタンス変数を子クラスで定義する際に、親クラスのインスタンス変数をsuperで呼び出せる"
   ]
  },
  {
   "cell_type": "code",
   "execution_count": 372,
   "metadata": {},
   "outputs": [
    {
     "name": "stdout",
     "output_type": "stream",
     "text": [
      "run\n",
      "fast\n",
      "Lexus\n",
      "super fast\n",
      "Model S\n"
     ]
    }
   ],
   "source": [
    "class Car(object):\n",
    "    def __init__(self, model=None):\n",
    "        self.model = model\n",
    "    def run(self):\n",
    "        print('run')\n",
    "\n",
    "class ToyotaCar(Car):\n",
    "    def run(self):\n",
    "        print('fast')\n",
    "\n",
    "class TeslaCar(Car):\n",
    "    def __init__(self, model='Model S', enable_auto_run=False):\n",
    "        #self.model = model\n",
    "        #  superで親クラスの関数を呼び出すことができる\n",
    "        super().__init__(model)\n",
    "        self.enable_auto_run = enable_auto_run\n",
    "    def run(self):\n",
    "        print('super fast')\n",
    "    def auto_run(self):\n",
    "        print('auto run')\n",
    "        \n",
    "car = Car()\n",
    "car.run()\n",
    "\n",
    "toyota_car = ToyotaCar('Lexus')\n",
    "toyota_car.run()\n",
    "print(toyota_car.model)\n",
    "\n",
    "tesla_car = TeslaCar('Model S')\n",
    "tesla_car.run()\n",
    "print(tesla_car.model)\n"
   ]
  },
  {
   "cell_type": "markdown",
   "metadata": {},
   "source": [
    "### プロパティを使った属性の設定 \n",
    "https://naruport.com/blog/2019/8/27/python-tutorial-class-property-getter-setter/  \n",
    "propertyをデコレータとして使うと、値を外部から参照すことができなくできる  \n",
    "propertyを使う利点は、ある条件の時に値を変更できるという操作を実現できる  \n",
    "クラス変数を外部からアクセスできないようにするには、アンダーバーを二つつける  \n",
    "クラス内部からはアクセスできる  \n"
   ]
  },
  {
   "cell_type": "code",
   "execution_count": 382,
   "metadata": {},
   "outputs": [
    {
     "name": "stdout",
     "output_type": "stream",
     "text": [
      "False\n",
      "super fast\n"
     ]
    }
   ],
   "source": [
    "class Car(object):\n",
    "    def __init__(self, model=None):\n",
    "        self.model = model\n",
    "    def run(self):\n",
    "        print('run')\n",
    "\n",
    "class TeslaCar(Car):\n",
    "    def __init__(self, model='Model S', \n",
    "                           enable_auto_run=False,\n",
    "                           passwd='123'):\n",
    "        super().__init__(model)\n",
    "        self.__enable_auto_run = enable_auto_run\n",
    "        self.passwd = passwd\n",
    "        \n",
    "    @property\n",
    "    def enable_auto_run(self):\n",
    "        return self._enable_auto_run\n",
    "    \n",
    "    # プロパティに対してsetterを入れる\n",
    "    @enable_auto_run.setter\n",
    "    def enable_auto_run(self, is_enable):\n",
    "        if self.passwd == '456':\n",
    "            self._enable_auto_run = is_enable\n",
    "        else:\n",
    "            raise ValueError\n",
    "            \n",
    "    def run(self):\n",
    "        print(self.__enable_auto_run)\n",
    "        print('super fast')\n",
    "    def auto_run(self):\n",
    "        print('auto run')\n",
    "\n",
    "tesla_car = TeslaCar('Model S', passwd='456')\n",
    "tesla_car.enable_auto_run = True\n",
    "tesla_car.run()\n"
   ]
  },
  {
   "cell_type": "markdown",
   "metadata": {},
   "source": [
    "### ダックタイピング\n",
    "https://code-graffiti.com/duck-typing-in-python/  \n",
    "クラスのオブジェクトを受けとって、特定のメソッドを実行する関数を作成し、他のクラスでも同じメソッドの名前をもてば使いませること"
   ]
  },
  {
   "cell_type": "code",
   "execution_count": 387,
   "metadata": {},
   "outputs": [
    {
     "name": "stdout",
     "output_type": "stream",
     "text": [
      "ok\n"
     ]
    },
    {
     "ename": "Exception",
     "evalue": "No drive",
     "output_type": "error",
     "traceback": [
      "\u001b[0;31m---------------------------------------------------------------------------\u001b[0m",
      "\u001b[0;31mException\u001b[0m                                 Traceback (most recent call last)",
      "\u001b[0;32m<ipython-input-387-2c0ef5e02f0c>\u001b[0m in \u001b[0;36m<module>\u001b[0;34m\u001b[0m\n\u001b[1;32m     37\u001b[0m \u001b[0mcar\u001b[0m \u001b[0;34m=\u001b[0m \u001b[0mCar\u001b[0m\u001b[0;34m(\u001b[0m\u001b[0;34m)\u001b[0m\u001b[0;34m\u001b[0m\u001b[0;34m\u001b[0m\u001b[0m\n\u001b[1;32m     38\u001b[0m \u001b[0mcar\u001b[0m\u001b[0;34m.\u001b[0m\u001b[0mride\u001b[0m\u001b[0;34m(\u001b[0m\u001b[0madult\u001b[0m\u001b[0;34m)\u001b[0m\u001b[0;34m\u001b[0m\u001b[0;34m\u001b[0m\u001b[0m\n\u001b[0;32m---> 39\u001b[0;31m \u001b[0mcar\u001b[0m\u001b[0;34m.\u001b[0m\u001b[0mride\u001b[0m\u001b[0;34m(\u001b[0m\u001b[0mbaby\u001b[0m\u001b[0;34m)\u001b[0m\u001b[0;34m\u001b[0m\u001b[0;34m\u001b[0m\u001b[0m\n\u001b[0m",
      "\u001b[0;32m<ipython-input-387-2c0ef5e02f0c>\u001b[0m in \u001b[0;36mride\u001b[0;34m(self, person)\u001b[0m\n\u001b[1;32m     33\u001b[0m \u001b[0;34m\u001b[0m\u001b[0m\n\u001b[1;32m     34\u001b[0m     \u001b[0;32mdef\u001b[0m \u001b[0mride\u001b[0m\u001b[0;34m(\u001b[0m\u001b[0mself\u001b[0m\u001b[0;34m,\u001b[0m \u001b[0mperson\u001b[0m\u001b[0;34m)\u001b[0m\u001b[0;34m:\u001b[0m\u001b[0;34m\u001b[0m\u001b[0;34m\u001b[0m\u001b[0m\n\u001b[0;32m---> 35\u001b[0;31m         \u001b[0mperson\u001b[0m\u001b[0;34m.\u001b[0m\u001b[0mdrive\u001b[0m\u001b[0;34m(\u001b[0m\u001b[0;34m)\u001b[0m\u001b[0;34m\u001b[0m\u001b[0;34m\u001b[0m\u001b[0m\n\u001b[0m\u001b[1;32m     36\u001b[0m \u001b[0;34m\u001b[0m\u001b[0m\n\u001b[1;32m     37\u001b[0m \u001b[0mcar\u001b[0m \u001b[0;34m=\u001b[0m \u001b[0mCar\u001b[0m\u001b[0;34m(\u001b[0m\u001b[0;34m)\u001b[0m\u001b[0;34m\u001b[0m\u001b[0;34m\u001b[0m\u001b[0m\n",
      "\u001b[0;32m<ipython-input-387-2c0ef5e02f0c>\u001b[0m in \u001b[0;36mdrive\u001b[0;34m(self)\u001b[0m\n\u001b[1;32m      7\u001b[0m             \u001b[0mprint\u001b[0m\u001b[0;34m(\u001b[0m\u001b[0;34m'ok'\u001b[0m\u001b[0;34m)\u001b[0m\u001b[0;34m\u001b[0m\u001b[0;34m\u001b[0m\u001b[0m\n\u001b[1;32m      8\u001b[0m         \u001b[0;32melse\u001b[0m\u001b[0;34m:\u001b[0m\u001b[0;34m\u001b[0m\u001b[0;34m\u001b[0m\u001b[0m\n\u001b[0;32m----> 9\u001b[0;31m             \u001b[0;32mraise\u001b[0m \u001b[0mException\u001b[0m\u001b[0;34m(\u001b[0m\u001b[0;34m'No drive'\u001b[0m\u001b[0;34m)\u001b[0m\u001b[0;34m\u001b[0m\u001b[0;34m\u001b[0m\u001b[0m\n\u001b[0m\u001b[1;32m     10\u001b[0m \u001b[0;34m\u001b[0m\u001b[0m\n\u001b[1;32m     11\u001b[0m \u001b[0;32mclass\u001b[0m \u001b[0mBaby\u001b[0m\u001b[0;34m(\u001b[0m\u001b[0mPerson\u001b[0m\u001b[0;34m)\u001b[0m\u001b[0;34m:\u001b[0m\u001b[0;34m\u001b[0m\u001b[0;34m\u001b[0m\u001b[0m\n",
      "\u001b[0;31mException\u001b[0m: No drive"
     ]
    }
   ],
   "source": [
    "class Person(object):\n",
    "    def __init__(self, age=1):\n",
    "        self.age = age\n",
    "    \n",
    "    def drive(self):\n",
    "        if self.age >= 18:\n",
    "            print('ok')\n",
    "        else:\n",
    "            raise Exception('No drive')\n",
    "\n",
    "class Baby(Person):\n",
    "    def __init__(self, age=1):\n",
    "        if age < 18:\n",
    "            super().__init__(age)\n",
    "        else:\n",
    "            raise ValueError\n",
    "            \n",
    "class Adult(Person):\n",
    "    def __init__(self, age=18):\n",
    "        if age >= 18:\n",
    "            super().__init__(age)\n",
    "        else:\n",
    "            raise ValueError\n",
    "\n",
    "baby = Baby()\n",
    "adult = Adult()\n",
    "\n",
    "class Car(object):\n",
    "    def __init__(self, model=None):\n",
    "        self.model = model\n",
    "    def run(self):\n",
    "        print('run')\n",
    "\n",
    "    # personというオブジェクトにdriveというメソッドを想定している\n",
    "    def ride(self, person):\n",
    "        person.drive()\n",
    "        \n",
    "car = Car()\n",
    "car.ride(adult)\n",
    "car.ride(baby)\n"
   ]
  },
  {
   "cell_type": "markdown",
   "metadata": {},
   "source": [
    "### 抽象クラス\n",
    "親クラスをmetaclass=abc.ABCMetaを継承する  \n",
    "@abc.abstractclassmethodでデコレートされた関数は、子クラスで必ず実装する必要があることを明示できる  \n",
    "抽象クラスによって、子クラスで作成する関数を指定するのは推奨されていない"
   ]
  },
  {
   "cell_type": "code",
   "execution_count": 395,
   "metadata": {},
   "outputs": [
    {
     "name": "stdout",
     "output_type": "stream",
     "text": [
      "ok\n"
     ]
    }
   ],
   "source": [
    "import abc\n",
    "# 親クラスにdriveを書かないで、子クラスで個別にdriveを定義する場合　\n",
    "class Person(metaclass=abc.ABCMeta):\n",
    "    def __init__(self, age=1):\n",
    "        self.age = age\n",
    "\n",
    "    @abc.abstractclassmethod\n",
    "    def drive(self):\n",
    "        pass\n",
    "\n",
    "class Baby(Person):\n",
    "    def __init__(self, age=1):\n",
    "        if age < 18:\n",
    "            super().__init__(age)\n",
    "        else:\n",
    "            raise ValueError\n",
    "            \n",
    "    def drive(self):\n",
    "        raise Exception('No drive')\n",
    "        \n",
    "class Adult(Person):\n",
    "    def __init__(self, age=18):\n",
    "        if age >= 18:\n",
    "            super().__init__(age)\n",
    "        else:\n",
    "            raise ValueError\n",
    "    # Adultクラスでdriveを書き忘れてしまった場合を考える\n",
    "    # driiveを作成していないとエラーになる\n",
    "    def drive(self):\n",
    "        print('ok')\n",
    "\n",
    "baby = Baby()\n",
    "adult = Adult()\n",
    "adult.drive()"
   ]
  },
  {
   "cell_type": "markdown",
   "metadata": {},
   "source": [
    "### 多重継承"
   ]
  },
  {
   "cell_type": "code",
   "execution_count": 399,
   "metadata": {},
   "outputs": [
    {
     "name": "stdout",
     "output_type": "stream",
     "text": [
      "talk\n",
      "run\n",
      "fly\n",
      "person common\n"
     ]
    }
   ],
   "source": [
    "class Person(object):\n",
    "    def talk(self):\n",
    "        print('talk')\n",
    "    \n",
    "    def common(self):\n",
    "        print('person common')\n",
    "        \n",
    "class Car(object):\n",
    "    def run(self):\n",
    "        print('run')\n",
    "\n",
    "    def common(self):\n",
    "        print('car common')\n",
    "\n",
    "\n",
    "class PersonsonCarRobot(Person, Car):\n",
    "    def fly(self):\n",
    "        print('fly')\n",
    "        \n",
    "person_car_robot = PersonsonCarRobot()\n",
    "person_car_robot.talk()\n",
    "person_car_robot.run()\n",
    "person_car_robot.fly()\n",
    "# 多重継承は、共通の関数名は、先に継承されたクラスの処理が実行される\n",
    "person_car_robot.common()"
   ]
  },
  {
   "cell_type": "markdown",
   "metadata": {},
   "source": [
    "### クラス変数"
   ]
  },
  {
   "cell_type": "code",
   "execution_count": 412,
   "metadata": {},
   "outputs": [
    {
     "name": "stdout",
     "output_type": "stream",
     "text": [
      "A human\n",
      "B human\n",
      "['add 1', 'add 2']\n",
      "['add 1', 'add 2', 'add 3', 'add 4']\n",
      "['add 1', 'add 2']\n",
      "['add 3', 'add 4']\n"
     ]
    }
   ],
   "source": [
    "class Person(object):\n",
    "    # クラス変数\n",
    "    kind = 'human'\n",
    "    \n",
    "    def __init__(self, name):\n",
    "        #self.kind = 'human'\n",
    "        self.name = name\n",
    "        \n",
    "    def who_are_you(self):\n",
    "        # クラス変数をクラス内で呼び込む際には、selfをつける\n",
    "        print(self.name, self.kind)\n",
    "        \n",
    "a = Person('A')\n",
    "a.who_are_you()\n",
    "b = Person('B')\n",
    "b.who_are_you()\n",
    "\n",
    "class T(object):\n",
    "    \n",
    "    words = []\n",
    "    \n",
    "    def add_word(self, word):\n",
    "        self.words.append(word)\n",
    "        \n",
    "c = T()\n",
    "c.add_word('add 1')\n",
    "c.add_word('add 2')\n",
    "print(c.words)\n",
    "\n",
    "# クラス変数のリストが共有されてしまう\n",
    "d = T()\n",
    "d.add_word('add 3')\n",
    "d.add_word('add 4')\n",
    "print(d.words)\n",
    "\n",
    "# コンストラクタで初期化するようにすれば、共有されない\n",
    "class T(object):\n",
    "    def __init__(self):\n",
    "        self.words = []\n",
    "    \n",
    "    def add_word(self, word):\n",
    "        self.words.append(word)\n",
    "\n",
    "c = T()\n",
    "c.add_word('add 1')\n",
    "c.add_word('add 2')\n",
    "print(c.words)\n",
    "\n",
    "d = T()\n",
    "d.add_word('add 3')\n",
    "d.add_word('add 4')\n",
    "print(d.words)"
   ]
  },
  {
   "cell_type": "markdown",
   "metadata": {},
   "source": [
    "### クラスメソッドとスタティックメソッド"
   ]
  },
  {
   "cell_type": "code",
   "execution_count": 424,
   "metadata": {},
   "outputs": [
    {
     "name": "stdout",
     "output_type": "stream",
     "text": [
      "human\n",
      "100\n",
      "human\n",
      "about human 122\n",
      "human\n",
      "human\n",
      "about human 342\n"
     ]
    }
   ],
   "source": [
    "class Person(object):\n",
    "\n",
    "    kind = 'human'\n",
    "    \n",
    "    def __init__(self):\n",
    "        self.x = 100\n",
    "    \n",
    "    # クラスメソッドを作成. selfではオブジェクトだが、clsでクラスになるので、\n",
    "    # オブジェクトが作られていなくても実行できる\n",
    "    @classmethod\n",
    "    def what_is_your_kind(cls):\n",
    "        return cls.kind\n",
    "    \n",
    "    # スタティックメソッド. クラスの生成に関係なく使用できる。クラス外に書いても同じ処理になる\n",
    "    @staticmethod\n",
    "    def about(year):\n",
    "        print('about human {}'.format(year))\n",
    "\n",
    "a = Person()\n",
    "print(a.kind)\n",
    "print(a.x)\n",
    "print(a.what_is_your_kind())\n",
    "a.about(122)\n",
    "\n",
    "b =Person\n",
    "print(b.kind)\n",
    "# コンストラクタを実行していないので、xはアクセスできない\n",
    "#print(b.x)\n",
    "print(b.what_is_your_kind())\n",
    "b.about(342)\n"
   ]
  },
  {
   "cell_type": "code",
   "execution_count": null,
   "metadata": {},
   "outputs": [],
   "source": []
  },
  {
   "cell_type": "code",
   "execution_count": null,
   "metadata": {},
   "outputs": [],
   "source": []
  },
  {
   "cell_type": "code",
   "execution_count": null,
   "metadata": {},
   "outputs": [],
   "source": []
  },
  {
   "cell_type": "code",
   "execution_count": null,
   "metadata": {},
   "outputs": [],
   "source": []
  }
 ],
 "metadata": {
  "kernelspec": {
   "display_name": "Python 3",
   "language": "python",
   "name": "python3"
  },
  "language_info": {
   "codemirror_mode": {
    "name": "ipython",
    "version": 3
   },
   "file_extension": ".py",
   "mimetype": "text/x-python",
   "name": "python",
   "nbconvert_exporter": "python",
   "pygments_lexer": "ipython3",
   "version": "3.6.9"
  }
 },
 "nbformat": 4,
 "nbformat_minor": 2
}
