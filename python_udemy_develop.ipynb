{
 "cells": [
  {
   "cell_type": "markdown",
   "metadata": {},
   "source": [
    "# 現役シリコンバレーエンジニアが教えるPython 3 入門 + 応用 +アメリカのシリコンバレー流コードスタイル　応用編\n"
   ]
  },
  {
   "cell_type": "markdown",
   "metadata": {},
   "source": [
    "## セクション9: アプリケーション\n",
    "### MVCモデル\n",
    "アプリーケーション開発で有名なコーディング方法    \n",
    "処理と、表示、コントーラーを分ける  \n",
    "https://qiita.com/s_emoto/items/975cc38a3e0de462966a   "
   ]
  },
  {
   "cell_type": "markdown",
   "metadata": {},
   "source": [
    "## セクション9: コードスタイル\n",
    "pycodestyle(pep8) : 軽めのチェック    \n",
    "flake8 :　少し厳し目のチェック  \n",
    "pylint : 最も厳しいチェック    \n",
    "\n",
    "pylintを実行して、エラーがでないようにするなど徹底する"
   ]
  },
  {
   "cell_type": "code",
   "execution_count": 12,
   "metadata": {},
   "outputs": [
    {
     "name": "stdout",
     "output_type": "stream",
     "text": [
      "==================== pep8 ====================\n",
      "udemy/mis_style.py:3:2: E221 multiple spaces before operator\n",
      "udemy/mis_style.py:3:12: E225 missing whitespace around operator\n",
      "==================== flake8 ====================\n",
      "udemy/mis_style.py:1:1: F401 'os' imported but unused\n",
      "udemy/mis_style.py:3:2: E221 multiple spaces before operator\n",
      "udemy/mis_style.py:3:12: E225 missing whitespace around operator\n",
      "==================== pylint ====================\n",
      "************* Module mis_style\n",
      "udemy/mis_style.py:3:10: C0326: Exactly one space required around assignment\n",
      "y         =1\n",
      "          ^ (bad-whitespace)\n",
      "udemy/mis_style.py:4:11: C0326: Exactly one space required after comma\n",
      "x = {'test',          'xyz'}\n",
      "           ^ (bad-whitespace)\n",
      "udemy/mis_style.py:1:0: C0114: Missing module docstring (missing-module-docstring)\n",
      "udemy/mis_style.py:3:0: C0103: Constant name \"y\" doesn't conform to UPPER_CASE naming style (invalid-name)\n",
      "udemy/mis_style.py:4:0: C0103: Constant name \"x\" doesn't conform to UPPER_CASE naming style (invalid-name)\n",
      "udemy/mis_style.py:1:0: W0611: Unused import os (unused-import)\n",
      "\n",
      "----------------------------------------------------------------------\n",
      "Your code has been rated at -10.00/10 (previous run: -10.00/10, +0.00)\n",
      "\n"
     ]
    }
   ],
   "source": [
    "print('=' * 20, 'pep8', '=' * 20)\n",
    "!pycodestyle udemy/mis_style.py\n",
    "\n",
    "print('=' * 20, 'flake8', '=' * 20)\n",
    "!flake8 udemy/mis_style.py\n",
    "\n",
    "print('=' * 20, 'pylint', '=' * 20)\n",
    "!pylint udemy/mis_style.py"
   ]
  },
  {
   "cell_type": "markdown",
   "metadata": {},
   "source": [
    "### スタイルルール\n",
    "変数名のキャメルケースとスネークケース  \n",
    "https://wa3.i-3-i.info/diff71moji.html  \n"
   ]
  },
  {
   "cell_type": "code",
   "execution_count": 16,
   "metadata": {},
   "outputs": [
    {
     "name": "stdout",
     "output_type": "stream",
     "text": [
      "exist\n",
      "efasfwf\n",
      "efasfwf\n",
      "efa'sfwf\n",
      "exists\n",
      "exists\n"
     ]
    }
   ],
   "source": [
    "# セミコロンは明示しない\n",
    "x = 1;\n",
    "y = 2;\n",
    "\n",
    "# 80 文字以上はラインに書かない\n",
    "x = 'aaaaaaaaaaaaaaaaaaaaaaaaaaaaaaaaaaaaaaaaaaaaaaaaaaaaaaaaaaaaaaaaaaaaaaaaaaaaaaaaaaaaaaaaaaaaaaa'\n",
    "\n",
    "# 関数のデフォルト引数の=にはスペースを入れない\n",
    "def test_func(x, y, z,\n",
    "                         drftgyhujikoljuhygtfrftgyhu='test'):\n",
    "    # docstring中のURLは８０文字を超えても良い　\n",
    "    '''\n",
    "    :param x:\n",
    "    :param x:\n",
    "    :param x:\n",
    "    See detail at : http://www.~~/drftgyhujikoljuhygtfrftgyhu\n",
    "    '''\n",
    "    pass\n",
    "\n",
    "# 余分なカッコは付けない\n",
    "# インデントは4つのスペースを使用する\n",
    "if (x):\n",
    "    print('exist')\n",
    "\n",
    "    #  改行後も4つのスペースをいれる\n",
    "    x = {\n",
    "        'test': 'sss'\n",
    "    }\n",
    "    \n",
    "    # : , のあとにスペースを入れる\n",
    "    x = {'test': 'sss'}\n",
    "    \n",
    "    # 見た目を揃えるために、意図的にスペースをいれない\n",
    "    x                 = 100\n",
    "    yyyyy        = 200\n",
    "    zzzzzzzz  = 300\n",
    "    \n",
    "word = 'hello'\n",
    "word2 = '!'\n",
    "\n",
    "# わかりにくい場合\n",
    "new_word = '{}{}'.format(word, word2)\n",
    "\n",
    "# 推奨\n",
    "new_word = word + word2\n",
    "\n",
    "# 非推奨\n",
    "long_word = ''\n",
    "for word in ['data', 'data2', 'dat']:\n",
    "    long_word += '{}dfwedf'.format(word)\n",
    "\n",
    "# 推奨 メモリ管理上、良い\n",
    "long_word = []\n",
    "for word in ['data', 'data2', 'dat']:\n",
    "    long_word.append('{}dfwedf'.format(word))\n",
    "new_long_word = ''.join(long_word)\n",
    "\n",
    "# シングルクォートとダブルクォートの両立\n",
    "print('efasfwf')\n",
    "print('efasfwf')\n",
    "print(\"efa'sfwf\")\n",
    "\n",
    "# 文字列中にシングルクォートが使われる場合に、ダブルクォートを使用する\n",
    "\"dfasfwef {} afsdfw\".format('test')\n",
    "\n",
    "# 今後、行う内容をコメントで記入する場合のスタイル\n",
    "# TODO (snagae) write what you should do in future\n",
    "\n",
    "# if 文は2行で書いた方がわかりやすい\n",
    "if x:\n",
    "    print('exists')\n",
    "else:\n",
    "    print('else')\n",
    "    \n",
    "if x: print('exists')\n",
    "else : print('else')\n",
    "\n",
    "    \n",
    "# クラスの宣言はキャメルケースの大文字を使用する\n",
    "class DoSomething(object):\n",
    "    pass\n",
    "\n",
    "# 変数名はスネークケースを利用する\n",
    "new_variable = 'test'"
   ]
  },
  {
   "cell_type": "code",
   "execution_count": 10,
   "metadata": {},
   "outputs": [],
   "source": [
    "# import文とグローバル変数、グローバルな関数の間には２行スペースを開ける\n",
    "import os\n",
    "import shutil\n",
    "\n",
    "\n",
    "# グローバル変数は大文字で明示する\n",
    "DEFAULT_VARIABLE = 'TEST' \n",
    "\n",
    "\n",
    "# クラスや、関数間のスペースは２行、間をあける\n",
    "class Class1(object):\n",
    "    # クラス内のメソッド間は１行、間をあける\n",
    "    def process1(self):\n",
    "        pass\n",
    "\n",
    "    def process2(self):\n",
    "        pass\n",
    "    \n",
    "    \n",
    "def func1():\n",
    "    pass\n",
    "\n",
    "\n",
    "class Class2(object):\n",
    "    pass\n",
    "\n",
    "\n",
    "def func2():\n",
    "    pass"
   ]
  },
  {
   "cell_type": "markdown",
   "metadata": {},
   "source": [
    "### Pythonの書き方"
   ]
  },
  {
   "cell_type": "code",
   "execution_count": 41,
   "metadata": {},
   "outputs": [
    {
     "name": "stdout",
     "output_type": "stream",
     "text": [
      "test\n",
      "test\n",
      "key1 value1\n",
      "key2 value2\n",
      "0\n",
      "1\n",
      "2\n",
      "3\n",
      "4\n",
      "5\n",
      "6\n",
      "7\n",
      "8\n",
      "9\n",
      "2\n",
      "20\n",
      "40\n",
      "20\n",
      "110\n"
     ]
    }
   ],
   "source": [
    "# 標準ライブラリ\n",
    "import os\n",
    "import sys\n",
    "\n",
    "# サードパーティ　\n",
    "import pep8\n",
    "\n",
    "# ローカルファイル\n",
    "import udemy.mis_style\n",
    "\n",
    "def do_something():\n",
    "    print('test')\n",
    "\n",
    "# 自作の例外処理を行うと、どこでエラーが行なっているのかわかりやすくなる\n",
    "class MainError(Exception):\n",
    "    pass\n",
    "\n",
    "def main():\n",
    "    raise MainError('error')\n",
    "        \n",
    "# リスト内包表記は長くなる場合は使用しない\n",
    "x = [(i, x, y) for i in [1, 2, 3] for x in [1, 2, 3] for y in [1, 2, 3]]\n",
    "\n",
    "# 辞書の要素の呼び出し\n",
    "d = {'key1': 'value1', 'key2': 'value2'}\n",
    "# [推奨]\n",
    "if 'key1' in d:\n",
    "    print('test')\n",
    "    \n",
    "# [非推奨]\n",
    "if 'key1' in d.keys():\n",
    "    print('test')\n",
    "\n",
    "# 辞書のkey, valueは変数名をきちんと書く\n",
    "# k, v のような一文字はコードが短い場合のみ使用してよい\n",
    "for name, count in d.items():\n",
    "    print(name, count)\n",
    "    \n",
    "# [非推奨]\n",
    "def t():\n",
    "    num = []\n",
    "    for i in range(10):\n",
    "        num.append(i)\n",
    "    return num\n",
    "\n",
    "# [推奨] ジェネレータを使える場合は使った方がメモリ効率が良い\n",
    "def t():\n",
    "    for i in range(10):\n",
    "        yield i\n",
    "        \n",
    "for i in t():\n",
    "    print(i)\n",
    "\n",
    "# lambdaの使い所\n",
    "def other_func(f):\n",
    "    return f(10)\n",
    "\n",
    "def test_func(x):\n",
    "    return x * 2\n",
    "\n",
    "def test_func(x):\n",
    "    return x * 5\n",
    "# 簡単に値を帰る場合だけで関数を書き直す必要がでる場合はlambdaを用いる\n",
    "other_func(test_func)\n",
    "other_func(lambda x: x * 2)\n",
    "other_func(lambda x: x * 5)\n",
    "\n",
    "# 変数に値が入っているかどうかを条件文に使用することで1文で書くことができる\n",
    "y = None\n",
    "x = 1 if y else 2\n",
    "print(x)\n",
    "\n",
    "# 関数を実行する際に空リストを初期化するあ場合は、Noneを引数にとるようにして、内部の処理で初期化する\n",
    "def func(test_list=None):\n",
    "    if test_list is None:\n",
    "        test_list = []\n",
    "        \n",
    "# クロージャー\n",
    "def base(x):\n",
    "    def plus(y):\n",
    "        return x + y\n",
    "    return plus\n",
    "plus = base(10)\n",
    "print(plus(10))\n",
    "print(plus(30))\n",
    "\n",
    "# グローバル変数をクロージャーに入れると、書き換えられる可能性がある\n",
    "i = 0\n",
    "def add_num():\n",
    "    def plus(y):\n",
    "        return i + y\n",
    "    return plus\n",
    "i = 10\n",
    "plus = add_num()\n",
    "print(plus(10))\n",
    "\n",
    "i = 100\n",
    "plus = add_num()\n",
    "print(plus(10))\n"
   ]
  },
  {
   "cell_type": "markdown",
   "metadata": {},
   "source": [
    "### ドキュメントとPylint\n",
    "ドキュメントは英語で書くようにする  \n",
    "docstringを書く際はダブルクォートを持ちいる  \n",
    "Pylintはリファクタリングの余地のある部分を指摘してくれるが、状況に合わせて書くようにする  \n"
   ]
  },
  {
   "cell_type": "markdown",
   "metadata": {},
   "source": [
    "### 文章のようにコードを書く\n",
    "Pythonはコードが読みやすいことに重点を置いている言語なので、  \n",
    "ドキュメントに頼るのではなく、コードがわかりやすいことを意識して書くようにする"
   ]
  },
  {
   "cell_type": "markdown",
   "metadata": {},
   "source": [
    "## セクション11: コンフィグとロギング"
   ]
  },
  {
   "cell_type": "markdown",
   "metadata": {},
   "source": [
    "### configparser"
   ]
  },
  {
   "cell_type": "code",
   "execution_count": 46,
   "metadata": {},
   "outputs": [
    {
     "name": "stdout",
     "output_type": "stream",
     "text": [
      "<Section: web_server>\n",
      "127.0.0.1\n",
      "80\n",
      "True\n"
     ]
    }
   ],
   "source": [
    "import configparser\n",
    "\n",
    "config = configparser.ConfigParser()\n",
    "\n",
    "# configの書き込み\n",
    "config['DEFAULT'] = {\n",
    "        'debug': True\n",
    "}\n",
    "config['web_server'] = {\n",
    "        'host': '127.0.0.1',\n",
    "        'port': 80\n",
    "}\n",
    "config['db_server'] = {\n",
    "        'host': '127.0.1',\n",
    "        'port': 3300\n",
    "}\n",
    "with open('udemy/config.ini', 'w') as config_file:\n",
    "    config.write(config_file)\n",
    "    \n",
    "\n",
    "config = configparser.ConfigParser()\n",
    "config.read('udemy/config.ini')\n",
    "print(config['web_server'])\n",
    "print(config['web_server']['host'])\n",
    "print(config['web_server']['port'])\n",
    "\n",
    "print(config['DEFAULT']['debug'])"
   ]
  },
  {
   "cell_type": "markdown",
   "metadata": {},
   "source": [
    "### yaml\n",
    "設定ファイルであるyamlファイルを操作する"
   ]
  },
  {
   "cell_type": "code",
   "execution_count": 54,
   "metadata": {},
   "outputs": [
    {
     "name": "stdout",
     "output_type": "stream",
     "text": [
      "{'db_server': {'host': '127.0.0.1', 'port': 120}, 'web_server': {'host': '127.0.0.1', 'port': 80}} <class 'dict'>\n",
      "127.0.0.1\n",
      "80\n"
     ]
    },
    {
     "name": "stderr",
     "output_type": "stream",
     "text": [
      "/Users/satsuki/anaconda3/envs/gpu-env/lib/python3.6/site-packages/ipykernel_launcher.py:19: YAMLLoadWarning: calling yaml.load() without Loader=... is deprecated, as the default Loader is unsafe. Please read https://msg.pyyaml.org/load for full details.\n"
     ]
    }
   ],
   "source": [
    "import yaml\n",
    "\n",
    "# yamlファイルへの書き込み\n",
    "with open('udemy/config.yml', 'w') as yaml_file:\n",
    "    yaml.dump({\n",
    "            'web_server': {\n",
    "                'host': '127.0.0.1',\n",
    "                'port': 80\n",
    "            },\n",
    "            'db_server': {\n",
    "               'host': '127.0.0.1',\n",
    "                'port': 120\n",
    "            }\n",
    "    }, yaml_file, default_flow_style=False)\n",
    "    \n",
    "\n",
    "# yaml ファイルの読み込み\n",
    "with open('udemy/config.yml', 'r') as yaml_file:\n",
    "    data = yaml.load(yaml_file)\n",
    "    print(data, type(data))\n",
    "    print(data['web_server']['host'])\n",
    "    print(data['web_server']['port'])"
   ]
  },
  {
   "cell_type": "markdown",
   "metadata": {},
   "source": [
    "### ロギング"
   ]
  },
  {
   "cell_type": "code",
   "execution_count": 64,
   "metadata": {},
   "outputs": [
    {
     "name": "stderr",
     "output_type": "stream",
     "text": [
      "CRITICAL:root:critical\n",
      "ERROR:root:error\n",
      "WARNING:root:warning\n"
     ]
    }
   ],
   "source": [
    "import logging\n",
    "\n",
    "# ロギングにはレベルを設定する\n",
    "# 通常はinfo のレベルに合わせて設定を行う\n",
    "# filename で出力するログファイルを指定できる\n",
    "logging.basicConfig(filename='test.log', leve=logging.DEBUG)\n",
    "\n",
    "logging.critical('critical')\n",
    "logging.error('error')\n",
    "logging.warning('warning')\n",
    "logging.info('info')\n",
    "logging.debug('debug')\n",
    "\n",
    "# 書き方は３通り\n",
    "logging.info('info {}'.format('test'))\n",
    "logging.info('info %s %s' % ('test', 'test2'))\n",
    "logging.info('info %s %s', 'test', 'test2')\n",
    "\n",
    "# formatterの設定\n",
    "formattter = '%(levelname)s:%(message)s'\n",
    "logging.basicConfig(level=logging.INFO, format=formattter)\n"
   ]
  },
  {
   "cell_type": "markdown",
   "metadata": {},
   "source": [
    "### ロガー, ハンドラー, フィルタ\n",
    "ファイルごとにロガーを作成することで、ログの保存先やフォーマットをそれぞれで設定できるので便利  \n",
    "通常のアプリ開発では、main.pyにロガーを作成して使う  \n",
    "ロガーは別会社が作っていた名残で関数がキャメルケースで書かれているので注意する\n"
   ]
  },
  {
   "cell_type": "code",
   "execution_count": 88,
   "metadata": {},
   "outputs": [
    {
     "name": "stdout",
     "output_type": "stream",
     "text": [
      "from main\n",
      "from main\n",
      "from main\n",
      "from main\n",
      "from main\n",
      "from main\n",
      "from main\n",
      "from main\n",
      "from main\n",
      "from main\n",
      "from main\n",
      "from main\n",
      "from main\n",
      "from main\n",
      "from main\n",
      "from main\n",
      "from main\n",
      "from main\n",
      "from main\n",
      "from main\n"
     ]
    },
    {
     "name": "stderr",
     "output_type": "stream",
     "text": [
      "INFO:__main__:from main\n"
     ]
    }
   ],
   "source": [
    "import sys\n",
    "# __name__を入れるのが、推奨されている\n",
    "logger = logging.getLogger(__name__)\n",
    "\n",
    "# ハンドラーの作成\n",
    "std_handler = logging.StreamHandler(sys.stdout)\n",
    "std_handler.setLevel(logging.INFO)\n",
    "\n",
    "file_handler = logging.FileHandler('udemy/logtest.log')\n",
    "file_handler.setLevel(logging.DEBUG)\n",
    "\n",
    "logger.addHandler(std_handler)\n",
    "logger.addHandler(file_handler)\n",
    "#logger.setLevel(logging.INFO)\n",
    "\n",
    "#logger.info('test')\n",
    "\n",
    "# フィルターの作成\n",
    "class NoPassFilter(logging.Filter):\n",
    "    def filter(self, record):\n",
    "        log_message = record.getMessage()\n",
    "        return 'password' not in log_message\n",
    "    \n",
    "logger.addFilter(NoPassFilter())\n",
    "logger.info('from main')\n",
    "logger.info('from main xxx = password')"
   ]
  },
  {
   "cell_type": "markdown",
   "metadata": {},
   "source": [
    "### コンフィグ\n",
    "dictConfigをmain関数と別に書いておく場合が多い"
   ]
  },
  {
   "cell_type": "code",
   "execution_count": 96,
   "metadata": {},
   "outputs": [
    {
     "name": "stderr",
     "output_type": "stream",
     "text": [
      "2020-06-16 15:31:17,829 simpleExample CRITICAL critical\n",
      "2020-06-16 15:31:17,830 simpleExample ERROR    error\n",
      "2020-06-16 15:31:17,830 simpleExample WARNING  warning\n",
      "2020-06-16 15:31:17,831 simpleExample INFO     info\n",
      "2020-06-16 15:31:17,832 simpleExample DEBUG    debug\n"
     ]
    }
   ],
   "source": [
    "import logging.config\n",
    "\n",
    "# 設定ファイルから読み込む場合\n",
    "#logging.config.fileConfig('udemy/logging.ini')\n",
    "\n",
    "# dictConfigで直書きする場合\n",
    "logging.config.dictConfig({\n",
    "    'version': 1,\n",
    "    'formatters': {\n",
    "        'sampleFormatter': {\n",
    "            'format': '%(asctime)s %(name)-12s %(levelname) - 8s %(message)s'}\n",
    "    },\n",
    "    'handlers': {\n",
    "        'sampleHandlers': {\n",
    "            'class': 'logging.StreamHandler',\n",
    "            'formatter': 'sampleFormatter',\n",
    "            'level': logging.DEBUG\n",
    "        }\n",
    "    },\n",
    "    'root': {\n",
    "        'handlers': ['sampleHandlers'],\n",
    "        'level': logging.WARNING,\n",
    "    },\n",
    "    'loggers': {\n",
    "        'simpleExample': {\n",
    "            'handlers': ['sampleHandlers'],\n",
    "            'level': logging.DEBUG,\n",
    "            'propagate': 0\n",
    "        }\n",
    "    }\n",
    "})\n",
    "\n",
    "logger = logging.getLogger('simpleExample')\n",
    "#logger = logging.getLogger(__name__)\n",
    "\n",
    "logger.critical('critical')\n",
    "logger.error('error')\n",
    "logger.warning('warning')\n",
    "logger.info('info')\n",
    "logger.debug('debug')"
   ]
  },
  {
   "cell_type": "markdown",
   "metadata": {},
   "source": [
    "### ロギングの書き方"
   ]
  },
  {
   "cell_type": "code",
   "execution_count": 108,
   "metadata": {},
   "outputs": [
    {
     "name": "stderr",
     "output_type": "stream",
     "text": [
      "2020-06-16 15:43:40,890 test         INFO     {'action': 'do something', 'status': 'run', 'args': True, 'target': 124}\n",
      "2020-06-16 15:43:40,892 test         INFO     {'action': 'do something', 'status': 'success', 'args': True, 'target': 124}\n"
     ]
    },
    {
     "name": "stdout",
     "output_type": "stream",
     "text": [
      "function execusion\n",
      "try\n"
     ]
    }
   ],
   "source": [
    "logger = logging.getLogger('test')\n",
    "std_handler = logging.StreamHandler(sys.stdout)\n",
    "std_handler.setLevel(logging.INFO)\n",
    "logger.setLevel(logging.INFO)\n",
    "\n",
    "def do_something(arg=True):\n",
    "    target_variable = 124\n",
    "    \n",
    "    # 処理の状態、重要な変数やファイル名を記載するようにする\n",
    "    logger.info({\n",
    "        'action': 'do something',\n",
    "        'status': 'run',\n",
    "        'args': arg,\n",
    "        'target': target_variable\n",
    "    })\n",
    "    \n",
    "    print('function execusion')\n",
    "    \n",
    "    try:\n",
    "        print('try')\n",
    "    except:\n",
    "        # エラーがでた場合はログに出力する\n",
    "        logger.error('error happen')\n",
    "        pass    \n",
    "        \n",
    "    logger.info({\n",
    "        'action': 'do something',\n",
    "        'status': 'success',\n",
    "        'args': arg,\n",
    "        'target': target_variable\n",
    "    })\n",
    "\n",
    "do_something()"
   ]
  },
  {
   "cell_type": "markdown",
   "metadata": {},
   "source": [
    "### Email送信"
   ]
  },
  {
   "cell_type": "code",
   "execution_count": null,
   "metadata": {},
   "outputs": [],
   "source": [
    "from email import message\n",
    "import smtplib\n",
    "\n",
    "smtp_host = 'smtp.live.com'\n",
    "smtp_port = 587\n",
    "from_email = 'xxx@hotmail.com'\n",
    "to_email = 'xxx@hotmail.com'\n",
    "username = 'xxx@hotmail.com'\n",
    "password = 'frtjkl'\n",
    "\n",
    "msg = message.EmailMessage()\n",
    "mg.set_content('Test email')\n",
    "msg['Subject'] = 'Test email sub'\n",
    "msg['From'] = from_email\n",
    "msg['To'] = to_email\n",
    "\n",
    "server = smtplib.SMTP(smtp_host, smtp_port)\n",
    "server.ehlo()\n",
    "server.starttls()\n",
    "server.ehlo()\n",
    "server.login(username, password)\n",
    "server.send_message(msg)\n",
    "server.quit()\n"
   ]
  },
  {
   "cell_type": "markdown",
   "metadata": {},
   "source": [
    "### virtualenv\n",
    "仮想環境の作成 virtualenv env_name  \n",
    "仮想環境の実行 source env_name/bin/activate  \n",
    "仮想環境の停止 deactivate "
   ]
  },
  {
   "cell_type": "markdown",
   "metadata": {},
   "source": [
    "### optparse\n",
    "コマンドライン引数の扱いを楽にできるライブラリ  \n",
    "argparseはoptparseの上位互換なので、argparseを用いる"
   ]
  },
  {
   "cell_type": "code",
   "execution_count": 134,
   "metadata": {},
   "outputs": [
    {
     "name": "stdout",
     "output_type": "stream",
     "text": [
      "<class 'optparse.Values'>\n",
      "<class 'list'>\n",
      "/Users/satsuki/Library/Jupyter/runtime/kernel-5fa808c3-6ec4-43c6-a621-6f6b11878c46.json\n"
     ]
    }
   ],
   "source": [
    "from optparse import OptionParser, OptionGroup\n",
    "\n",
    "def main():\n",
    "    usage = 'usage %prog [option] arg1 arg2'\n",
    "    parser = OptionParser(usage=usage)\n",
    "    # 文字列の受け取り\n",
    "    parser.add_option('-f', '--file', action='store', type='string',\n",
    "                                     dest='filename', help='File name')\n",
    "    # 数値の受け取り\n",
    "    parser.add_option('-n', '--num', action='store', type='int', dest='num')\n",
    "    # booleanの設定\n",
    "    parser.add_option('-v', action='store_false', dest='verbose', default=True)\n",
    "    # 定数を設定する\n",
    "    parser.add_option('-r', action='store_const', dest='user_name')\n",
    "    parser.add_option('-e', dest='env')\n",
    "\n",
    "    def is_relase(option, opt_str, value, parser):\n",
    "        if parser.values.env == 'prd':\n",
    "            raise parser.error(\"Can't relase\")\n",
    "    parser.add_option('--release', action='callback', callback=is_relase, dest='release')\n",
    "\n",
    "    group = OptionGroup(parser, 'Dangerous options')\n",
    "    group.add_option('-g', action='store_true', help='Group option')\n",
    "    parser.add_option_group(group)\n",
    "\n",
    "    options, args = parser.parse_args()\n",
    "    print(type(options))\n",
    "    print(type(args))\n",
    "    \n",
    "    print(options.filename)\n",
    "\n",
    "if __name__ =='__main__':\n",
    "    main()\n",
    "    "
   ]
  },
  {
   "cell_type": "markdown",
   "metadata": {},
   "source": [
    "## セクション12: データベース\n",
    "作成したデータベースはコマンドラインから確認する  \n",
    "sqlite3 udemy/test_sqlite.db  \n",
    ".tables  \n",
    "SELECT * from persons;"
   ]
  },
  {
   "cell_type": "code",
   "execution_count": 146,
   "metadata": {},
   "outputs": [
    {
     "name": "stdout",
     "output_type": "stream",
     "text": [
      "[(2, 'Nancy'), (3, 'Nagae')]\n"
     ]
    }
   ],
   "source": [
    "import sqlite3\n",
    "\n",
    "# データベースの作成\n",
    "#conn = sqlite3.connect('udemy/test_sqlite.db')\n",
    "\n",
    "# 何度もSQL文を実行したい場合は、データベースをメモリ上に載せる方法\n",
    "conn = sqlite3.connect(':memory:')\n",
    "\n",
    "# SQLiteを操作するためのカーソル \n",
    "curs = conn.cursor()\n",
    "\n",
    "# SQL文を記述, personというid とname を入れるためのテーブルを作成\n",
    "curs.execute(\n",
    "       'CREATE TABLE persons(id INTEGER PRIMARY KEY AUTOINCREMENT, name STRING)')\n",
    "\n",
    "# commitをするとデータベースに書き込まれる\n",
    "conn.commit()\n",
    "\n",
    "curs.execute(\n",
    "       'INSERT INTO persons(name) values(\"Mike\")'\n",
    ")\n",
    "conn.commit()\n",
    "\n",
    "curs.execute(\n",
    "       'INSERT INTO persons(name) values(\"Nancy\")')\n",
    "curs.execute(\n",
    "       'INSERT INTO persons(name) values(\"Nagae\")')\n",
    "conn.commit()\n",
    "\n",
    "# 既存のデータベースの中身を更新する場合. MikeをMichelにする場合\n",
    "curs.execute('UPDATE persons set name = \"Michel\" WHERE name = \"Mike\"')\n",
    "conn.commit()\n",
    "\n",
    "# 要素のデリート\n",
    "curs.execute('DELETE FROM persons WHERE name = \"Michel\"')\n",
    "conn.commit()\n",
    "\n",
    "# データベースの中身の確認\n",
    "curs.execute('SELECT * FROM persons')\n",
    "print(curs.fetchall())\n",
    "\n",
    "curs.close()\n",
    "conn.close()"
   ]
  },
  {
   "cell_type": "markdown",
   "metadata": {},
   "source": [
    "### MySQL"
   ]
  },
  {
   "cell_type": "code",
   "execution_count": 154,
   "metadata": {},
   "outputs": [
    {
     "ename": "ProgrammingError",
     "evalue": "1045 (28000): Access denied for user 'satsuki'@'localhost' (using password: NO)",
     "output_type": "error",
     "traceback": [
      "\u001b[0;31m---------------------------------------------------------------------------\u001b[0m",
      "\u001b[0;31mMySQLInterfaceError\u001b[0m                       Traceback (most recent call last)",
      "\u001b[0;32m~/anaconda3/envs/gpu-env/lib/python3.6/site-packages/mysql/connector/connection_cext.py\u001b[0m in \u001b[0;36m_open_connection\u001b[0;34m(self)\u001b[0m\n\u001b[1;32m    199\u001b[0m         \u001b[0;32mtry\u001b[0m\u001b[0;34m:\u001b[0m\u001b[0;34m\u001b[0m\u001b[0;34m\u001b[0m\u001b[0m\n\u001b[0;32m--> 200\u001b[0;31m             \u001b[0mself\u001b[0m\u001b[0;34m.\u001b[0m\u001b[0m_cmysql\u001b[0m\u001b[0;34m.\u001b[0m\u001b[0mconnect\u001b[0m\u001b[0;34m(\u001b[0m\u001b[0;34m**\u001b[0m\u001b[0mcnx_kwargs\u001b[0m\u001b[0;34m)\u001b[0m\u001b[0;34m\u001b[0m\u001b[0;34m\u001b[0m\u001b[0m\n\u001b[0m\u001b[1;32m    201\u001b[0m         \u001b[0;32mexcept\u001b[0m \u001b[0mMySQLInterfaceError\u001b[0m \u001b[0;32mas\u001b[0m \u001b[0mexc\u001b[0m\u001b[0;34m:\u001b[0m\u001b[0;34m\u001b[0m\u001b[0;34m\u001b[0m\u001b[0m\n",
      "\u001b[0;31mMySQLInterfaceError\u001b[0m: Access denied for user 'satsuki'@'localhost' (using password: NO)",
      "\nDuring handling of the above exception, another exception occurred:\n",
      "\u001b[0;31mProgrammingError\u001b[0m                          Traceback (most recent call last)",
      "\u001b[0;32m<ipython-input-154-d5d55c039039>\u001b[0m in \u001b[0;36m<module>\u001b[0;34m\u001b[0m\n\u001b[1;32m      3\u001b[0m \u001b[0;31m# connctorの作成. セキュリティ上、ユーザー名とパスワードは登録するようにする\u001b[0m\u001b[0;34m\u001b[0m\u001b[0;34m\u001b[0m\u001b[0;34m\u001b[0m\u001b[0m\n\u001b[1;32m      4\u001b[0m \u001b[0;31m#conn = mysql.connector.connect(host='127.0.0.1', user='root', password='')\u001b[0m\u001b[0;34m\u001b[0m\u001b[0;34m\u001b[0m\u001b[0;34m\u001b[0m\u001b[0m\n\u001b[0;32m----> 5\u001b[0;31m \u001b[0mconn\u001b[0m \u001b[0;34m=\u001b[0m \u001b[0mmysql\u001b[0m\u001b[0;34m.\u001b[0m\u001b[0mconnector\u001b[0m\u001b[0;34m.\u001b[0m\u001b[0mconnect\u001b[0m\u001b[0;34m(\u001b[0m\u001b[0mhost\u001b[0m\u001b[0;34m=\u001b[0m\u001b[0;34m\"127.0.0.1\"\u001b[0m\u001b[0;34m)\u001b[0m\u001b[0;34m\u001b[0m\u001b[0;34m\u001b[0m\u001b[0m\n\u001b[0m\u001b[1;32m      6\u001b[0m \u001b[0;34m\u001b[0m\u001b[0m\n\u001b[1;32m      7\u001b[0m \u001b[0mcursor\u001b[0m \u001b[0;34m=\u001b[0m \u001b[0mconn\u001b[0m\u001b[0;34m.\u001b[0m\u001b[0mcursor\u001b[0m\u001b[0;34m(\u001b[0m\u001b[0;34m)\u001b[0m\u001b[0;34m\u001b[0m\u001b[0;34m\u001b[0m\u001b[0m\n",
      "\u001b[0;32m~/anaconda3/envs/gpu-env/lib/python3.6/site-packages/mysql/connector/__init__.py\u001b[0m in \u001b[0;36mconnect\u001b[0;34m(*args, **kwargs)\u001b[0m\n\u001b[1;32m    174\u001b[0m \u001b[0;34m\u001b[0m\u001b[0m\n\u001b[1;32m    175\u001b[0m     \u001b[0;32mif\u001b[0m \u001b[0mHAVE_CEXT\u001b[0m \u001b[0;32mand\u001b[0m \u001b[0;32mnot\u001b[0m \u001b[0muse_pure\u001b[0m\u001b[0;34m:\u001b[0m\u001b[0;34m\u001b[0m\u001b[0;34m\u001b[0m\u001b[0m\n\u001b[0;32m--> 176\u001b[0;31m         \u001b[0;32mreturn\u001b[0m \u001b[0mCMySQLConnection\u001b[0m\u001b[0;34m(\u001b[0m\u001b[0;34m*\u001b[0m\u001b[0margs\u001b[0m\u001b[0;34m,\u001b[0m \u001b[0;34m**\u001b[0m\u001b[0mkwargs\u001b[0m\u001b[0;34m)\u001b[0m\u001b[0;34m\u001b[0m\u001b[0;34m\u001b[0m\u001b[0m\n\u001b[0m\u001b[1;32m    177\u001b[0m     \u001b[0;32mreturn\u001b[0m \u001b[0mMySQLConnection\u001b[0m\u001b[0;34m(\u001b[0m\u001b[0;34m*\u001b[0m\u001b[0margs\u001b[0m\u001b[0;34m,\u001b[0m \u001b[0;34m**\u001b[0m\u001b[0mkwargs\u001b[0m\u001b[0;34m)\u001b[0m\u001b[0;34m\u001b[0m\u001b[0;34m\u001b[0m\u001b[0m\n\u001b[1;32m    178\u001b[0m \u001b[0mConnect\u001b[0m \u001b[0;34m=\u001b[0m \u001b[0mconnect\u001b[0m  \u001b[0;31m# pylint: disable=C0103\u001b[0m\u001b[0;34m\u001b[0m\u001b[0;34m\u001b[0m\u001b[0m\n",
      "\u001b[0;32m~/anaconda3/envs/gpu-env/lib/python3.6/site-packages/mysql/connector/connection_cext.py\u001b[0m in \u001b[0;36m__init__\u001b[0;34m(self, **kwargs)\u001b[0m\n\u001b[1;32m     78\u001b[0m \u001b[0;34m\u001b[0m\u001b[0m\n\u001b[1;32m     79\u001b[0m         \u001b[0;32mif\u001b[0m \u001b[0mkwargs\u001b[0m\u001b[0;34m:\u001b[0m\u001b[0;34m\u001b[0m\u001b[0;34m\u001b[0m\u001b[0m\n\u001b[0;32m---> 80\u001b[0;31m             \u001b[0mself\u001b[0m\u001b[0;34m.\u001b[0m\u001b[0mconnect\u001b[0m\u001b[0;34m(\u001b[0m\u001b[0;34m**\u001b[0m\u001b[0mkwargs\u001b[0m\u001b[0;34m)\u001b[0m\u001b[0;34m\u001b[0m\u001b[0;34m\u001b[0m\u001b[0m\n\u001b[0m\u001b[1;32m     81\u001b[0m \u001b[0;34m\u001b[0m\u001b[0m\n\u001b[1;32m     82\u001b[0m     \u001b[0;32mdef\u001b[0m \u001b[0m_add_default_conn_attrs\u001b[0m\u001b[0;34m(\u001b[0m\u001b[0mself\u001b[0m\u001b[0;34m)\u001b[0m\u001b[0;34m:\u001b[0m\u001b[0;34m\u001b[0m\u001b[0;34m\u001b[0m\u001b[0m\n",
      "\u001b[0;32m~/anaconda3/envs/gpu-env/lib/python3.6/site-packages/mysql/connector/abstracts.py\u001b[0m in \u001b[0;36mconnect\u001b[0;34m(self, **kwargs)\u001b[0m\n\u001b[1;32m    779\u001b[0m \u001b[0;34m\u001b[0m\u001b[0m\n\u001b[1;32m    780\u001b[0m         \u001b[0mself\u001b[0m\u001b[0;34m.\u001b[0m\u001b[0mdisconnect\u001b[0m\u001b[0;34m(\u001b[0m\u001b[0;34m)\u001b[0m\u001b[0;34m\u001b[0m\u001b[0;34m\u001b[0m\u001b[0m\n\u001b[0;32m--> 781\u001b[0;31m         \u001b[0mself\u001b[0m\u001b[0;34m.\u001b[0m\u001b[0m_open_connection\u001b[0m\u001b[0;34m(\u001b[0m\u001b[0;34m)\u001b[0m\u001b[0;34m\u001b[0m\u001b[0;34m\u001b[0m\u001b[0m\n\u001b[0m\u001b[1;32m    782\u001b[0m         \u001b[0;31m# Server does not allow to run any other statement different from ALTER\u001b[0m\u001b[0;34m\u001b[0m\u001b[0;34m\u001b[0m\u001b[0;34m\u001b[0m\u001b[0m\n\u001b[1;32m    783\u001b[0m         \u001b[0;31m# when user's password has been expired.\u001b[0m\u001b[0;34m\u001b[0m\u001b[0;34m\u001b[0m\u001b[0;34m\u001b[0m\u001b[0m\n",
      "\u001b[0;32m~/anaconda3/envs/gpu-env/lib/python3.6/site-packages/mysql/connector/connection_cext.py\u001b[0m in \u001b[0;36m_open_connection\u001b[0;34m(self)\u001b[0m\n\u001b[1;32m    201\u001b[0m         \u001b[0;32mexcept\u001b[0m \u001b[0mMySQLInterfaceError\u001b[0m \u001b[0;32mas\u001b[0m \u001b[0mexc\u001b[0m\u001b[0;34m:\u001b[0m\u001b[0;34m\u001b[0m\u001b[0;34m\u001b[0m\u001b[0m\n\u001b[1;32m    202\u001b[0m             raise errors.get_mysql_exception(msg=exc.msg, errno=exc.errno,\n\u001b[0;32m--> 203\u001b[0;31m                                              sqlstate=exc.sqlstate)\n\u001b[0m\u001b[1;32m    204\u001b[0m         \u001b[0mself\u001b[0m\u001b[0;34m.\u001b[0m\u001b[0m_do_handshake\u001b[0m\u001b[0;34m(\u001b[0m\u001b[0;34m)\u001b[0m\u001b[0;34m\u001b[0m\u001b[0;34m\u001b[0m\u001b[0m\n\u001b[1;32m    205\u001b[0m \u001b[0;34m\u001b[0m\u001b[0m\n",
      "\u001b[0;31mProgrammingError\u001b[0m: 1045 (28000): Access denied for user 'satsuki'@'localhost' (using password: NO)"
     ]
    }
   ],
   "source": [
    "import mysql.connector\n",
    "\n",
    "# connctorの作成. セキュリティ上、ユーザー名とパスワードは登録するようにする\n",
    "#conn = mysql.connector.connect(host='127.0.0.1', user='root', password='')\n",
    "conn = mysql.connector.connect(host=\"127.0.0.1\")\n",
    "\n",
    "cursor = conn.cursor()\n",
    "\n",
    "cursor.execute('CREATE DASTABASE udemy/test_mysql_database')\n",
    "\n",
    "cursor.close()\n",
    "conn.close()"
   ]
  },
  {
   "cell_type": "code",
   "execution_count": null,
   "metadata": {},
   "outputs": [],
   "source": []
  }
 ],
 "metadata": {
  "kernelspec": {
   "display_name": "Python 3",
   "language": "python",
   "name": "python3"
  },
  "language_info": {
   "codemirror_mode": {
    "name": "ipython",
    "version": 3
   },
   "file_extension": ".py",
   "mimetype": "text/x-python",
   "name": "python",
   "nbconvert_exporter": "python",
   "pygments_lexer": "ipython3",
   "version": "3.6.9"
  }
 },
 "nbformat": 4,
 "nbformat_minor": 2
}
