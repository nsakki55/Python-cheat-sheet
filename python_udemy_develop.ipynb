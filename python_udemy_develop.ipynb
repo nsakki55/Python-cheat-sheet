{
 "cells": [
  {
   "cell_type": "markdown",
   "metadata": {},
   "source": [
    "# 現役シリコンバレーエンジニアが教えるPython 3 入門 + 応用 +アメリカのシリコンバレー流コードスタイル　応用編\n"
   ]
  },
  {
   "cell_type": "markdown",
   "metadata": {},
   "source": [
    "## セクション9: アプリケーション\n",
    "### MVCモデル\n",
    "アプリーケーション開発で有名なコーディング方法    \n",
    "処理と、表示、コントーラーを分ける  \n",
    "https://qiita.com/s_emoto/items/975cc38a3e0de462966a   "
   ]
  },
  {
   "cell_type": "markdown",
   "metadata": {},
   "source": [
    "## セクション9: コードスタイル\n",
    "pycodestyle(pep8) : 軽めのチェック    \n",
    "flake8 :　少し厳し目のチェック  \n",
    "pylint : 最も厳しいチェック    \n",
    "\n",
    "pylintを実行して、エラーがでないようにするなど徹底する"
   ]
  },
  {
   "cell_type": "code",
   "execution_count": 12,
   "metadata": {},
   "outputs": [
    {
     "name": "stdout",
     "output_type": "stream",
     "text": [
      "==================== pep8 ====================\n",
      "udemy/mis_style.py:3:2: E221 multiple spaces before operator\n",
      "udemy/mis_style.py:3:12: E225 missing whitespace around operator\n",
      "==================== flake8 ====================\n",
      "udemy/mis_style.py:1:1: F401 'os' imported but unused\n",
      "udemy/mis_style.py:3:2: E221 multiple spaces before operator\n",
      "udemy/mis_style.py:3:12: E225 missing whitespace around operator\n",
      "==================== pylint ====================\n",
      "************* Module mis_style\n",
      "udemy/mis_style.py:3:10: C0326: Exactly one space required around assignment\n",
      "y         =1\n",
      "          ^ (bad-whitespace)\n",
      "udemy/mis_style.py:4:11: C0326: Exactly one space required after comma\n",
      "x = {'test',          'xyz'}\n",
      "           ^ (bad-whitespace)\n",
      "udemy/mis_style.py:1:0: C0114: Missing module docstring (missing-module-docstring)\n",
      "udemy/mis_style.py:3:0: C0103: Constant name \"y\" doesn't conform to UPPER_CASE naming style (invalid-name)\n",
      "udemy/mis_style.py:4:0: C0103: Constant name \"x\" doesn't conform to UPPER_CASE naming style (invalid-name)\n",
      "udemy/mis_style.py:1:0: W0611: Unused import os (unused-import)\n",
      "\n",
      "----------------------------------------------------------------------\n",
      "Your code has been rated at -10.00/10 (previous run: -10.00/10, +0.00)\n",
      "\n"
     ]
    }
   ],
   "source": [
    "print('=' * 20, 'pep8', '=' * 20)\n",
    "!pycodestyle udemy/mis_style.py\n",
    "\n",
    "print('=' * 20, 'flake8', '=' * 20)\n",
    "!flake8 udemy/mis_style.py\n",
    "\n",
    "print('=' * 20, 'pylint', '=' * 20)\n",
    "!pylint udemy/mis_style.py"
   ]
  },
  {
   "cell_type": "markdown",
   "metadata": {},
   "source": [
    "### スタイルルール\n",
    "変数名のキャメルケースとスネークケース  \n",
    "https://wa3.i-3-i.info/diff71moji.html  \n"
   ]
  },
  {
   "cell_type": "code",
   "execution_count": 16,
   "metadata": {},
   "outputs": [
    {
     "name": "stdout",
     "output_type": "stream",
     "text": [
      "exist\n",
      "efasfwf\n",
      "efasfwf\n",
      "efa'sfwf\n",
      "exists\n",
      "exists\n"
     ]
    }
   ],
   "source": [
    "# セミコロンは明示しない\n",
    "x = 1;\n",
    "y = 2;\n",
    "\n",
    "# 80 文字以上はラインに書かない\n",
    "x = 'aaaaaaaaaaaaaaaaaaaaaaaaaaaaaaaaaaaaaaaaaaaaaaaaaaaaaaaaaaaaaaaaaaaaaaaaaaaaaaaaaaaaaaaaaaaaaaa'\n",
    "\n",
    "# 関数のデフォルト引数の=にはスペースを入れない\n",
    "def test_func(x, y, z,\n",
    "                         drftgyhujikoljuhygtfrftgyhu='test'):\n",
    "    # docstring中のURLは８０文字を超えても良い　\n",
    "    '''\n",
    "    :param x:\n",
    "    :param x:\n",
    "    :param x:\n",
    "    See detail at : http://www.~~/drftgyhujikoljuhygtfrftgyhu\n",
    "    '''\n",
    "    pass\n",
    "\n",
    "# 余分なカッコは付けない\n",
    "# インデントは4つのスペースを使用する\n",
    "if (x):\n",
    "    print('exist')\n",
    "\n",
    "    #  改行後も4つのスペースをいれる\n",
    "    x = {\n",
    "        'test': 'sss'\n",
    "    }\n",
    "    \n",
    "    # : , のあとにスペースを入れる\n",
    "    x = {'test': 'sss'}\n",
    "    \n",
    "    # 見た目を揃えるために、意図的にスペースをいれない\n",
    "    x                 = 100\n",
    "    yyyyy        = 200\n",
    "    zzzzzzzz  = 300\n",
    "    \n",
    "word = 'hello'\n",
    "word2 = '!'\n",
    "\n",
    "# わかりにくい場合\n",
    "new_word = '{}{}'.format(word, word2)\n",
    "\n",
    "# 推奨\n",
    "new_word = word + word2\n",
    "\n",
    "# 非推奨\n",
    "long_word = ''\n",
    "for word in ['data', 'data2', 'dat']:\n",
    "    long_word += '{}dfwedf'.format(word)\n",
    "\n",
    "# 推奨 メモリ管理上、良い\n",
    "long_word = []\n",
    "for word in ['data', 'data2', 'dat']:\n",
    "    long_word.append('{}dfwedf'.format(word))\n",
    "new_long_word = ''.join(long_word)\n",
    "\n",
    "# シングルクォートとダブルクォートの両立\n",
    "print('efasfwf')\n",
    "print('efasfwf')\n",
    "print(\"efa'sfwf\")\n",
    "\n",
    "# 文字列中にシングルクォートが使われる場合に、ダブルクォートを使用する\n",
    "\"dfasfwef {} afsdfw\".format('test')\n",
    "\n",
    "# 今後、行う内容をコメントで記入する場合のスタイル\n",
    "# TODO (snagae) write what you should do in future\n",
    "\n",
    "# if 文は2行で書いた方がわかりやすい\n",
    "if x:\n",
    "    print('exists')\n",
    "else:\n",
    "    print('else')\n",
    "    \n",
    "if x: print('exists')\n",
    "else : print('else')\n",
    "\n",
    "    \n",
    "# クラスの宣言はキャメルケースの大文字を使用する\n",
    "class DoSomething(object):\n",
    "    pass\n",
    "\n",
    "# 変数名はスネークケースを利用する\n",
    "new_variable = 'test'"
   ]
  },
  {
   "cell_type": "code",
   "execution_count": 10,
   "metadata": {},
   "outputs": [],
   "source": [
    "# import文とグローバル変数、グローバルな関数の間には２行スペースを開ける\n",
    "import os\n",
    "import shutil\n",
    "\n",
    "\n",
    "# グローバル変数は大文字で明示する\n",
    "DEFAULT_VARIABLE = 'TEST' \n",
    "\n",
    "\n",
    "# クラスや、関数間のスペースは２行、間をあける\n",
    "class Class1(object):\n",
    "    # クラス内のメソッド間は１行、間をあける\n",
    "    def process1(self):\n",
    "        pass\n",
    "\n",
    "    def process2(self):\n",
    "        pass\n",
    "    \n",
    "    \n",
    "def func1():\n",
    "    pass\n",
    "\n",
    "\n",
    "class Class2(object):\n",
    "    pass\n",
    "\n",
    "\n",
    "def func2():\n",
    "    pass"
   ]
  },
  {
   "cell_type": "markdown",
   "metadata": {},
   "source": [
    "### Pythonの書き方"
   ]
  },
  {
   "cell_type": "code",
   "execution_count": 41,
   "metadata": {},
   "outputs": [
    {
     "name": "stdout",
     "output_type": "stream",
     "text": [
      "test\n",
      "test\n",
      "key1 value1\n",
      "key2 value2\n",
      "0\n",
      "1\n",
      "2\n",
      "3\n",
      "4\n",
      "5\n",
      "6\n",
      "7\n",
      "8\n",
      "9\n",
      "2\n",
      "20\n",
      "40\n",
      "20\n",
      "110\n"
     ]
    }
   ],
   "source": [
    "# 標準ライブラリ\n",
    "import os\n",
    "import sys\n",
    "\n",
    "# サードパーティ　\n",
    "import pep8\n",
    "\n",
    "# ローカルファイル\n",
    "import udemy.mis_style\n",
    "\n",
    "def do_something():\n",
    "    print('test')\n",
    "\n",
    "# 自作の例外処理を行うと、どこでエラーが行なっているのかわかりやすくなる\n",
    "class MainError(Exception):\n",
    "    pass\n",
    "\n",
    "def main():\n",
    "    raise MainError('error')\n",
    "        \n",
    "# リスト内包表記は長くなる場合は使用しない\n",
    "x = [(i, x, y) for i in [1, 2, 3] for x in [1, 2, 3] for y in [1, 2, 3]]\n",
    "\n",
    "# 辞書の要素の呼び出し\n",
    "d = {'key1': 'value1', 'key2': 'value2'}\n",
    "# [推奨]\n",
    "if 'key1' in d:\n",
    "    print('test')\n",
    "    \n",
    "# [非推奨]\n",
    "if 'key1' in d.keys():\n",
    "    print('test')\n",
    "\n",
    "# 辞書のkey, valueは変数名をきちんと書く\n",
    "# k, v のような一文字はコードが短い場合のみ使用してよい\n",
    "for name, count in d.items():\n",
    "    print(name, count)\n",
    "    \n",
    "# [非推奨]\n",
    "def t():\n",
    "    num = []\n",
    "    for i in range(10):\n",
    "        num.append(i)\n",
    "    return num\n",
    "\n",
    "# [推奨] ジェネレータを使える場合は使った方がメモリ効率が良い\n",
    "def t():\n",
    "    for i in range(10):\n",
    "        yield i\n",
    "        \n",
    "for i in t():\n",
    "    print(i)\n",
    "\n",
    "# lambdaの使い所\n",
    "def other_func(f):\n",
    "    return f(10)\n",
    "\n",
    "def test_func(x):\n",
    "    return x * 2\n",
    "\n",
    "def test_func(x):\n",
    "    return x * 5\n",
    "# 簡単に値を帰る場合だけで関数を書き直す必要がでる場合はlambdaを用いる\n",
    "other_func(test_func)\n",
    "other_func(lambda x: x * 2)\n",
    "other_func(lambda x: x * 5)\n",
    "\n",
    "# 変数に値が入っているかどうかを条件文に使用することで1文で書くことができる\n",
    "y = None\n",
    "x = 1 if y else 2\n",
    "print(x)\n",
    "\n",
    "# 関数を実行する際に空リストを初期化するあ場合は、Noneを引数にとるようにして、内部の処理で初期化する\n",
    "def func(test_list=None):\n",
    "    if test_list is None:\n",
    "        test_list = []\n",
    "        \n",
    "# クロージャー\n",
    "def base(x):\n",
    "    def plus(y):\n",
    "        return x + y\n",
    "    return plus\n",
    "plus = base(10)\n",
    "print(plus(10))\n",
    "print(plus(30))\n",
    "\n",
    "# グローバル変数をクロージャーに入れると、書き換えられる可能性がある\n",
    "i = 0\n",
    "def add_num():\n",
    "    def plus(y):\n",
    "        return i + y\n",
    "    return plus\n",
    "i = 10\n",
    "plus = add_num()\n",
    "print(plus(10))\n",
    "\n",
    "i = 100\n",
    "plus = add_num()\n",
    "print(plus(10))\n"
   ]
  },
  {
   "cell_type": "markdown",
   "metadata": {},
   "source": [
    "### ドキュメントとPylint\n",
    "ドキュメントは英語で書くようにする  \n",
    "docstringを書く際はダブルクォートを持ちいる  \n",
    "Pylintはリファクタリングの余地のある部分を指摘してくれるが、状況に合わせて書くようにする  \n"
   ]
  },
  {
   "cell_type": "markdown",
   "metadata": {},
   "source": [
    "### 文章のようにコードを書く\n",
    "Pythonはコードが読みやすいことに重点を置いている言語なので、  \n",
    "ドキュメントに頼るのではなく、コードがわかりやすいことを意識して書くようにする"
   ]
  },
  {
   "cell_type": "markdown",
   "metadata": {},
   "source": [
    "## セクション11: コンフィグとロギング"
   ]
  },
  {
   "cell_type": "markdown",
   "metadata": {},
   "source": [
    "### configparser"
   ]
  },
  {
   "cell_type": "code",
   "execution_count": 46,
   "metadata": {},
   "outputs": [
    {
     "name": "stdout",
     "output_type": "stream",
     "text": [
      "<Section: web_server>\n",
      "127.0.0.1\n",
      "80\n",
      "True\n"
     ]
    }
   ],
   "source": [
    "import configparser\n",
    "\n",
    "config = configparser.ConfigParser()\n",
    "\n",
    "# configの書き込み\n",
    "config['DEFAULT'] = {\n",
    "        'debug': True\n",
    "}\n",
    "config['web_server'] = {\n",
    "        'host': '127.0.0.1',\n",
    "        'port': 80\n",
    "}\n",
    "config['db_server'] = {\n",
    "        'host': '127.0.1',\n",
    "        'port': 3300\n",
    "}\n",
    "with open('udemy/config.ini', 'w') as config_file:\n",
    "    config.write(config_file)\n",
    "    \n",
    "\n",
    "config = configparser.ConfigParser()\n",
    "config.read('udemy/config.ini')\n",
    "print(config['web_server'])\n",
    "print(config['web_server']['host'])\n",
    "print(config['web_server']['port'])\n",
    "\n",
    "print(config['DEFAULT']['debug'])"
   ]
  },
  {
   "cell_type": "markdown",
   "metadata": {},
   "source": [
    "### yaml\n",
    "設定ファイルであるyamlファイルを操作する"
   ]
  },
  {
   "cell_type": "code",
   "execution_count": 54,
   "metadata": {},
   "outputs": [
    {
     "name": "stdout",
     "output_type": "stream",
     "text": [
      "{'db_server': {'host': '127.0.0.1', 'port': 120}, 'web_server': {'host': '127.0.0.1', 'port': 80}} <class 'dict'>\n",
      "127.0.0.1\n",
      "80\n"
     ]
    },
    {
     "name": "stderr",
     "output_type": "stream",
     "text": [
      "/Users/satsuki/anaconda3/envs/gpu-env/lib/python3.6/site-packages/ipykernel_launcher.py:19: YAMLLoadWarning: calling yaml.load() without Loader=... is deprecated, as the default Loader is unsafe. Please read https://msg.pyyaml.org/load for full details.\n"
     ]
    }
   ],
   "source": [
    "import yaml\n",
    "\n",
    "# yamlファイルへの書き込み\n",
    "with open('udemy/config.yml', 'w') as yaml_file:\n",
    "    yaml.dump({\n",
    "            'web_server': {\n",
    "                'host': '127.0.0.1',\n",
    "                'port': 80\n",
    "            },\n",
    "            'db_server': {\n",
    "               'host': '127.0.0.1',\n",
    "                'port': 120\n",
    "            }\n",
    "    }, yaml_file, default_flow_style=False)\n",
    "    \n",
    "\n",
    "# yaml ファイルの読み込み\n",
    "with open('udemy/config.yml', 'r') as yaml_file:\n",
    "    data = yaml.load(yaml_file)\n",
    "    print(data, type(data))\n",
    "    print(data['web_server']['host'])\n",
    "    print(data['web_server']['port'])"
   ]
  },
  {
   "cell_type": "markdown",
   "metadata": {},
   "source": [
    "### ロギング"
   ]
  },
  {
   "cell_type": "code",
   "execution_count": 64,
   "metadata": {},
   "outputs": [
    {
     "name": "stderr",
     "output_type": "stream",
     "text": [
      "CRITICAL:root:critical\n",
      "ERROR:root:error\n",
      "WARNING:root:warning\n"
     ]
    }
   ],
   "source": [
    "import logging\n",
    "\n",
    "# ロギングにはレベルを設定する\n",
    "# 通常はinfo のレベルに合わせて設定を行う\n",
    "# filename で出力するログファイルを指定できる\n",
    "logging.basicConfig(filename='test.log', leve=logging.DEBUG)\n",
    "\n",
    "logging.critical('critical')\n",
    "logging.error('error')\n",
    "logging.warning('warning')\n",
    "logging.info('info')\n",
    "logging.debug('debug')\n",
    "\n",
    "# 書き方は３通り\n",
    "logging.info('info {}'.format('test'))\n",
    "logging.info('info %s %s' % ('test', 'test2'))\n",
    "logging.info('info %s %s', 'test', 'test2')\n",
    "\n",
    "# formatterの設定\n",
    "formattter = '%(levelname)s:%(message)s'\n",
    "logging.basicConfig(level=logging.INFO, format=formattter)\n"
   ]
  },
  {
   "cell_type": "markdown",
   "metadata": {},
   "source": [
    "### ロガー, ハンドラー, フィルタ\n",
    "ファイルごとにロガーを作成することで、ログの保存先やフォーマットをそれぞれで設定できるので便利  \n",
    "通常のアプリ開発では、main.pyにロガーを作成して使う  \n",
    "ロガーは別会社が作っていた名残で関数がキャメルケースで書かれているので注意する\n"
   ]
  },
  {
   "cell_type": "code",
   "execution_count": 88,
   "metadata": {},
   "outputs": [
    {
     "name": "stdout",
     "output_type": "stream",
     "text": [
      "from main\n",
      "from main\n",
      "from main\n",
      "from main\n",
      "from main\n",
      "from main\n",
      "from main\n",
      "from main\n",
      "from main\n",
      "from main\n",
      "from main\n",
      "from main\n",
      "from main\n",
      "from main\n",
      "from main\n",
      "from main\n",
      "from main\n",
      "from main\n",
      "from main\n",
      "from main\n"
     ]
    },
    {
     "name": "stderr",
     "output_type": "stream",
     "text": [
      "INFO:__main__:from main\n"
     ]
    }
   ],
   "source": [
    "import sys\n",
    "# __name__を入れるのが、推奨されている\n",
    "logger = logging.getLogger(__name__)\n",
    "\n",
    "# ハンドラーの作成\n",
    "std_handler = logging.StreamHandler(sys.stdout)\n",
    "std_handler.setLevel(logging.INFO)\n",
    "\n",
    "file_handler = logging.FileHandler('udemy/logtest.log')\n",
    "file_handler.setLevel(logging.DEBUG)\n",
    "\n",
    "logger.addHandler(std_handler)\n",
    "logger.addHandler(file_handler)\n",
    "#logger.setLevel(logging.INFO)\n",
    "\n",
    "#logger.info('test')\n",
    "\n",
    "# フィルターの作成\n",
    "class NoPassFilter(logging.Filter):\n",
    "    def filter(self, record):\n",
    "        log_message = record.getMessage()\n",
    "        return 'password' not in log_message\n",
    "    \n",
    "logger.addFilter(NoPassFilter())\n",
    "logger.info('from main')\n",
    "logger.info('from main xxx = password')"
   ]
  },
  {
   "cell_type": "markdown",
   "metadata": {},
   "source": [
    "### コンフィグ\n",
    "dictConfigをmain関数と別に書いておく場合が多い"
   ]
  },
  {
   "cell_type": "code",
   "execution_count": 96,
   "metadata": {},
   "outputs": [
    {
     "name": "stderr",
     "output_type": "stream",
     "text": [
      "2020-06-16 15:31:17,829 simpleExample CRITICAL critical\n",
      "2020-06-16 15:31:17,830 simpleExample ERROR    error\n",
      "2020-06-16 15:31:17,830 simpleExample WARNING  warning\n",
      "2020-06-16 15:31:17,831 simpleExample INFO     info\n",
      "2020-06-16 15:31:17,832 simpleExample DEBUG    debug\n"
     ]
    }
   ],
   "source": [
    "import logging.config\n",
    "\n",
    "# 設定ファイルから読み込む場合\n",
    "#logging.config.fileConfig('udemy/logging.ini')\n",
    "\n",
    "# dictConfigで直書きする場合\n",
    "logging.config.dictConfig({\n",
    "    'version': 1,\n",
    "    'formatters': {\n",
    "        'sampleFormatter': {\n",
    "            'format': '%(asctime)s %(name)-12s %(levelname) - 8s %(message)s'}\n",
    "    },\n",
    "    'handlers': {\n",
    "        'sampleHandlers': {\n",
    "            'class': 'logging.StreamHandler',\n",
    "            'formatter': 'sampleFormatter',\n",
    "            'level': logging.DEBUG\n",
    "        }\n",
    "    },\n",
    "    'root': {\n",
    "        'handlers': ['sampleHandlers'],\n",
    "        'level': logging.WARNING,\n",
    "    },\n",
    "    'loggers': {\n",
    "        'simpleExample': {\n",
    "            'handlers': ['sampleHandlers'],\n",
    "            'level': logging.DEBUG,\n",
    "            'propagate': 0\n",
    "        }\n",
    "    }\n",
    "})\n",
    "\n",
    "logger = logging.getLogger('simpleExample')\n",
    "#logger = logging.getLogger(__name__)\n",
    "\n",
    "logger.critical('critical')\n",
    "logger.error('error')\n",
    "logger.warning('warning')\n",
    "logger.info('info')\n",
    "logger.debug('debug')"
   ]
  },
  {
   "cell_type": "markdown",
   "metadata": {},
   "source": [
    "### ロギングの書き方"
   ]
  },
  {
   "cell_type": "code",
   "execution_count": 108,
   "metadata": {},
   "outputs": [
    {
     "name": "stderr",
     "output_type": "stream",
     "text": [
      "2020-06-16 15:43:40,890 test         INFO     {'action': 'do something', 'status': 'run', 'args': True, 'target': 124}\n",
      "2020-06-16 15:43:40,892 test         INFO     {'action': 'do something', 'status': 'success', 'args': True, 'target': 124}\n"
     ]
    },
    {
     "name": "stdout",
     "output_type": "stream",
     "text": [
      "function execusion\n",
      "try\n"
     ]
    }
   ],
   "source": [
    "logger = logging.getLogger('test')\n",
    "std_handler = logging.StreamHandler(sys.stdout)\n",
    "std_handler.setLevel(logging.INFO)\n",
    "logger.setLevel(logging.INFO)\n",
    "\n",
    "def do_something(arg=True):\n",
    "    target_variable = 124\n",
    "    \n",
    "    # 処理の状態、重要な変数やファイル名を記載するようにする\n",
    "    logger.info({\n",
    "        'action': 'do something',\n",
    "        'status': 'run',\n",
    "        'args': arg,\n",
    "        'target': target_variable\n",
    "    })\n",
    "    \n",
    "    print('function execusion')\n",
    "    \n",
    "    try:\n",
    "        print('try')\n",
    "    except:\n",
    "        # エラーがでた場合はログに出力する\n",
    "        logger.error('error happen')\n",
    "        pass    \n",
    "        \n",
    "    logger.info({\n",
    "        'action': 'do something',\n",
    "        'status': 'success',\n",
    "        'args': arg,\n",
    "        'target': target_variable\n",
    "    })\n",
    "\n",
    "do_something()"
   ]
  },
  {
   "cell_type": "markdown",
   "metadata": {},
   "source": [
    "### Email送信"
   ]
  },
  {
   "cell_type": "code",
   "execution_count": null,
   "metadata": {},
   "outputs": [],
   "source": [
    "from email import message\n",
    "import smtplib\n",
    "\n",
    "smtp_host = 'smtp.live.com'\n",
    "smtp_port = 587\n",
    "from_email = 'xxx@hotmail.com'\n",
    "to_email = 'xxx@hotmail.com'\n",
    "username = 'xxx@hotmail.com'\n",
    "password = 'frtjkl'\n",
    "\n",
    "msg = message.EmailMessage()\n",
    "mg.set_content('Test email')\n",
    "msg['Subject'] = 'Test email sub'\n",
    "msg['From'] = from_email\n",
    "msg['To'] = to_email\n",
    "\n",
    "server = smtplib.SMTP(smtp_host, smtp_port)\n",
    "server.ehlo()\n",
    "server.starttls()\n",
    "server.ehlo()\n",
    "server.login(username, password)\n",
    "server.send_message(msg)\n",
    "server.quit()\n"
   ]
  },
  {
   "cell_type": "markdown",
   "metadata": {},
   "source": [
    "### virtualenv\n",
    "仮想環境の作成 virtualenv env_name  \n",
    "仮想環境の実行 source env_name/bin/activate  \n",
    "仮想環境の停止 deactivate "
   ]
  },
  {
   "cell_type": "markdown",
   "metadata": {},
   "source": [
    "### optparse\n",
    "コマンドライン引数の扱いを楽にできるライブラリ  \n",
    "argparseはoptparseの上位互換なので、argparseを用いる"
   ]
  },
  {
   "cell_type": "code",
   "execution_count": 134,
   "metadata": {},
   "outputs": [
    {
     "name": "stdout",
     "output_type": "stream",
     "text": [
      "<class 'optparse.Values'>\n",
      "<class 'list'>\n",
      "/Users/satsuki/Library/Jupyter/runtime/kernel-5fa808c3-6ec4-43c6-a621-6f6b11878c46.json\n"
     ]
    }
   ],
   "source": [
    "from optparse import OptionParser, OptionGroup\n",
    "\n",
    "def main():\n",
    "    usage = 'usage %prog [option] arg1 arg2'\n",
    "    parser = OptionParser(usage=usage)\n",
    "    # 文字列の受け取り\n",
    "    parser.add_option('-f', '--file', action='store', type='string',\n",
    "                                     dest='filename', help='File name')\n",
    "    # 数値の受け取り\n",
    "    parser.add_option('-n', '--num', action='store', type='int', dest='num')\n",
    "    # booleanの設定\n",
    "    parser.add_option('-v', action='store_false', dest='verbose', default=True)\n",
    "    # 定数を設定する\n",
    "    parser.add_option('-r', action='store_const', dest='user_name')\n",
    "    parser.add_option('-e', dest='env')\n",
    "\n",
    "    def is_relase(option, opt_str, value, parser):\n",
    "        if parser.values.env == 'prd':\n",
    "            raise parser.error(\"Can't relase\")\n",
    "    parser.add_option('--release', action='callback', callback=is_relase, dest='release')\n",
    "\n",
    "    group = OptionGroup(parser, 'Dangerous options')\n",
    "    group.add_option('-g', action='store_true', help='Group option')\n",
    "    parser.add_option_group(group)\n",
    "\n",
    "    options, args = parser.parse_args()\n",
    "    print(type(options))\n",
    "    print(type(args))\n",
    "    \n",
    "    print(options.filename)\n",
    "\n",
    "if __name__ =='__main__':\n",
    "    main()\n",
    "    "
   ]
  },
  {
   "cell_type": "markdown",
   "metadata": {},
   "source": [
    "## セクション12: データベース\n",
    "作成したデータベースはコマンドラインから確認する  \n",
    "sqlite3 udemy/test_sqlite.db  \n",
    ".tables  \n",
    "SELECT * from persons;"
   ]
  },
  {
   "cell_type": "code",
   "execution_count": 146,
   "metadata": {},
   "outputs": [
    {
     "name": "stdout",
     "output_type": "stream",
     "text": [
      "[(2, 'Nancy'), (3, 'Nagae')]\n"
     ]
    }
   ],
   "source": [
    "import sqlite3\n",
    "\n",
    "# データベースの作成\n",
    "#conn = sqlite3.connect('udemy/test_sqlite.db')\n",
    "\n",
    "# 何度もSQL文を実行したい場合は、データベースをメモリ上に載せる方法\n",
    "conn = sqlite3.connect(':memory:')\n",
    "\n",
    "# SQLiteを操作するためのカーソル \n",
    "curs = conn.cursor()\n",
    "\n",
    "# SQL文を記述, personというid とname を入れるためのテーブルを作成\n",
    "curs.execute(\n",
    "       'CREATE TABLE persons(id INTEGER PRIMARY KEY AUTOINCREMENT, name STRING)')\n",
    "\n",
    "# commitをするとデータベースに書き込まれる\n",
    "conn.commit()\n",
    "\n",
    "curs.execute(\n",
    "       'INSERT INTO persons(name) values(\"Mike\")'\n",
    ")\n",
    "conn.commit()\n",
    "\n",
    "curs.execute(\n",
    "       'INSERT INTO persons(name) values(\"Nancy\")')\n",
    "curs.execute(\n",
    "       'INSERT INTO persons(name) values(\"Nagae\")')\n",
    "conn.commit()\n",
    "\n",
    "# 既存のデータベースの中身を更新する場合. MikeをMichelにする場合\n",
    "curs.execute('UPDATE persons set name = \"Michel\" WHERE name = \"Mike\"')\n",
    "conn.commit()\n",
    "\n",
    "# 要素のデリート\n",
    "curs.execute('DELETE FROM persons WHERE name = \"Michel\"')\n",
    "conn.commit()\n",
    "\n",
    "# データベースの中身の確認\n",
    "curs.execute('SELECT * FROM persons')\n",
    "print(curs.fetchall())\n",
    "\n",
    "curs.close()\n",
    "conn.close()"
   ]
  },
  {
   "cell_type": "markdown",
   "metadata": {},
   "source": [
    "### MySQL\n",
    "mysql8.0 になってから、認証エラーがでるので、修正する必要あり"
   ]
  },
  {
   "cell_type": "code",
   "execution_count": 16,
   "metadata": {},
   "outputs": [],
   "source": [
    "import mysql.connector\n",
    "\n",
    "# connctorの作成. セキュリティ上、ユーザー名とパスワードは登録するようにする\n",
    "conn = mysql.connector.connect(host='127.0.0.1', user='root', password='password')\n",
    "#conn = mysql.connector.connect(host=\"127.0.0.1\", user='satsuki')\n",
    "\n",
    "cursor = conn.cursor()\n",
    "\n",
    "cursor.execute('CREATE DATABASE test_mysql_database')\n",
    "\n",
    "cursor.close()\n",
    "conn.close()"
   ]
  },
  {
   "cell_type": "markdown",
   "metadata": {},
   "source": [
    "### SQLAlchemy\n",
    "データベースのクラスを作成して、オブジェクトの操作で変更ができる。  \n",
    "SQL文を書かなくてよい"
   ]
  },
  {
   "cell_type": "code",
   "execution_count": 24,
   "metadata": {},
   "outputs": [
    {
     "name": "stdout",
     "output_type": "stream",
     "text": [
      "2020-06-17 09:22:23,387 INFO sqlalchemy.engine.base.Engine SELECT CAST('test plain returns' AS VARCHAR(60)) AS anon_1\n",
      "2020-06-17 09:22:23,387 INFO sqlalchemy.engine.base.Engine ()\n",
      "2020-06-17 09:22:23,389 INFO sqlalchemy.engine.base.Engine SELECT CAST('test unicode returns' AS VARCHAR(60)) AS anon_1\n",
      "2020-06-17 09:22:23,389 INFO sqlalchemy.engine.base.Engine ()\n",
      "2020-06-17 09:22:23,390 INFO sqlalchemy.engine.base.Engine PRAGMA main.table_info(\"persons\")\n",
      "2020-06-17 09:22:23,391 INFO sqlalchemy.engine.base.Engine ()\n",
      "2020-06-17 09:22:23,394 INFO sqlalchemy.engine.base.Engine BEGIN (implicit)\n",
      "2020-06-17 09:22:23,396 INFO sqlalchemy.engine.base.Engine INSERT INTO persons (name) VALUES (?)\n",
      "2020-06-17 09:22:23,397 INFO sqlalchemy.engine.base.Engine ('Mike',)\n",
      "2020-06-17 09:22:23,399 INFO sqlalchemy.engine.base.Engine INSERT INTO persons (name) VALUES (?)\n",
      "2020-06-17 09:22:23,399 INFO sqlalchemy.engine.base.Engine ('Nancy',)\n",
      "2020-06-17 09:22:23,400 INFO sqlalchemy.engine.base.Engine INSERT INTO persons (name) VALUES (?)\n",
      "2020-06-17 09:22:23,401 INFO sqlalchemy.engine.base.Engine ('Satsuki',)\n",
      "2020-06-17 09:22:23,402 INFO sqlalchemy.engine.base.Engine COMMIT\n",
      "2020-06-17 09:22:23,405 INFO sqlalchemy.engine.base.Engine BEGIN (implicit)\n",
      "2020-06-17 09:22:23,407 INFO sqlalchemy.engine.base.Engine SELECT persons.id AS persons_id, persons.name AS persons_name \n",
      "FROM persons \n",
      "WHERE persons.name = ?\n",
      " LIMIT ? OFFSET ?\n",
      "2020-06-17 09:22:23,407 INFO sqlalchemy.engine.base.Engine ('Mike', 1, 0)\n",
      "2020-06-17 09:22:23,409 INFO sqlalchemy.engine.base.Engine UPDATE persons SET name=? WHERE persons.id = ?\n",
      "2020-06-17 09:22:23,410 INFO sqlalchemy.engine.base.Engine ('Michel', 4)\n",
      "2020-06-17 09:22:23,411 INFO sqlalchemy.engine.base.Engine COMMIT\n",
      "2020-06-17 09:22:23,414 INFO sqlalchemy.engine.base.Engine BEGIN (implicit)\n",
      "2020-06-17 09:22:23,415 INFO sqlalchemy.engine.base.Engine SELECT persons.id AS persons_id, persons.name AS persons_name \n",
      "FROM persons \n",
      "WHERE persons.name = ?\n",
      " LIMIT ? OFFSET ?\n",
      "2020-06-17 09:22:23,415 INFO sqlalchemy.engine.base.Engine ('Nancy', 1, 0)\n",
      "2020-06-17 09:22:23,417 INFO sqlalchemy.engine.base.Engine DELETE FROM persons WHERE persons.id = ?\n",
      "2020-06-17 09:22:23,418 INFO sqlalchemy.engine.base.Engine (5,)\n",
      "2020-06-17 09:22:23,419 INFO sqlalchemy.engine.base.Engine COMMIT\n",
      "2020-06-17 09:22:23,422 INFO sqlalchemy.engine.base.Engine BEGIN (implicit)\n",
      "2020-06-17 09:22:23,423 INFO sqlalchemy.engine.base.Engine SELECT persons.id AS persons_id, persons.name AS persons_name \n",
      "FROM persons\n",
      "2020-06-17 09:22:23,424 INFO sqlalchemy.engine.base.Engine ()\n",
      "1 Michel\n",
      "3 Satsuki\n",
      "4 Michel\n",
      "6 Satsuki\n"
     ]
    }
   ],
   "source": [
    "import sqlalchemy\n",
    "import sqlalchemy.ext.declarative\n",
    "import sqlalchemy.orm\n",
    "\n",
    "# メモリ上にデータベースを作成\n",
    "#engine = sqlalchemy.create_engine('sqlite:///:memory:', echo=True)\n",
    "# SQLite上にデータベースを作成\n",
    "engine = sqlalchemy.create_engine('sqlite:///test_sqlite2', echo=True)\n",
    "# mysql上にデータベースを作成\n",
    "#engine = sqlalchemy.create_engine('mysql+pymysql:///test_mysql_database2', echo=True)\n",
    "\n",
    "# クラスを作成し、継承する\n",
    "Base = sqlalchemy.ext.declarative.declarative_base()\n",
    "\n",
    "class Person(Base):\n",
    "    __tablename__ = 'persons'\n",
    "    id = sqlalchemy.Column(\n",
    "            sqlalchemy.Integer, primary_key=True, autoincrement=True)\n",
    "    name = sqlalchemy.Column(sqlalchemy.String(14))\n",
    "    \n",
    "Base.metadata.create_all(engine)\n",
    "\n",
    "# sessionを立てる\n",
    "Session = sqlalchemy.orm.sessionmaker(bind=engine)\n",
    "session = Session()\n",
    "\n",
    "# 要素の追加\n",
    "p1 = Person(name='Mike')\n",
    "session.add(p1)\n",
    "\n",
    "p2 = Person(name='Nancy')\n",
    "session.add(p2)\n",
    "\n",
    "p3 = Person(name='Satsuki')\n",
    "session.add(p3)\n",
    "\n",
    "session.commit()\n",
    "\n",
    "# 変更\n",
    "p4 = session.query(Person).filter_by(name='Mike').first()\n",
    "p4.name ='Michel'\n",
    "session.add(p4)\n",
    "session.commit()\n",
    "\n",
    "# 削除\n",
    "p5 = session.query(Person).filter_by(name='Nancy').first()\n",
    "session.delete(p5)\n",
    "session.commit()\n",
    "\n",
    "persons = session.query(Person).all()\n",
    "\n",
    "for person in persons:\n",
    "    print(person.id, person.name)"
   ]
  },
  {
   "cell_type": "markdown",
   "metadata": {},
   "source": [
    "### DBM\n"
   ]
  },
  {
   "cell_type": "code",
   "execution_count": 28,
   "metadata": {},
   "outputs": [
    {
     "name": "stdout",
     "output_type": "stream",
     "text": [
      "b'value1'\n"
     ]
    }
   ],
   "source": [
    "import dbm\n",
    "\n",
    "# 作成する際はcreate の c\n",
    "with dbm.open('udemy/cached', 'c') as db:\n",
    "    db['key1'] = 'value1'\n",
    "    db['key2'] = 'value2'\n",
    "    \n",
    "with dbm.open('udemy/cached', 'r') as db:\n",
    "    print(db.get('key1'))\n",
    "    "
   ]
  },
  {
   "cell_type": "markdown",
   "metadata": {},
   "source": [
    "### pickle\n",
    "python のオブジェクトで保存できる。  \n",
    "pythonだけで利用できるので、他の言語で利用はできない"
   ]
  },
  {
   "cell_type": "code",
   "execution_count": 34,
   "metadata": {},
   "outputs": [
    {
     "name": "stdout",
     "output_type": "stream",
     "text": [
      "{'a': [1, 2, 3], 'b': ('key', 'value'), 'c': {'test': 'test'}, 'd': <__main__.T object at 0x10cd157f0>}\n",
      "[1, 2, 3]\n",
      "('key', 'value')\n",
      "{'test': 'test'}\n",
      "<__main__.T object at 0x10cd157f0>\n"
     ]
    }
   ],
   "source": [
    "import pickle\n",
    "\n",
    "class T(object):\n",
    "    def __init__(self, name):\n",
    "        self.name = name\n",
    "        \n",
    "data = {\n",
    "    'a': [1, 2, 3],\n",
    "    'b': ('key', 'value'),\n",
    "    'c': {'test': 'test'},\n",
    "    'd': T('test')\n",
    "}\n",
    "\n",
    "with open('udemy/data.pickle', 'wb') as f:\n",
    "    pickle.dump(data, f)\n",
    "    \n",
    "with open('udemy/data.pickle', 'rb') as f:\n",
    "    data_loaded = pickle.load(f)\n",
    "    print(data_loaded)\n",
    "    print(data_loaded['a'])\n",
    "    print(data_loaded['b'])\n",
    "    print(data_loaded['c'])\n",
    "    print(data_loaded['d'])\n",
    "    \n"
   ]
  },
  {
   "cell_type": "markdown",
   "metadata": {},
   "source": [
    "## セクション13: Webとネットワーク"
   ]
  },
  {
   "cell_type": "markdown",
   "metadata": {},
   "source": [
    "### XML\n"
   ]
  },
  {
   "cell_type": "code",
   "execution_count": 37,
   "metadata": {},
   "outputs": [
    {
     "name": "stdout",
     "output_type": "stream",
     "text": [
      "id 111\n",
      "name Mike\n",
      "id 222\n",
      "name Nancy\n"
     ]
    }
   ],
   "source": [
    "import xml.etree.ElementTree as ET\n",
    "\n",
    "root = ET.Element('root')\n",
    "tree = ET.ElementTree(element=root)\n",
    "\n",
    "employee = ET.SubElement(root, 'employee')\n",
    "\n",
    "employ = ET.SubElement(employee, 'employ')\n",
    "employ_id = ET.SubElement(employ, 'id')\n",
    "employ_id.text = '111'\n",
    "employ_id = ET.SubElement(employ, 'name')\n",
    "employ_id.text = 'Mike'\n",
    "\n",
    "employ = ET.SubElement(employee, 'employ')\n",
    "employ_id = ET.SubElement(employ, 'id')\n",
    "employ_id.text = '222'\n",
    "employ_id = ET.SubElement(employ, 'name')\n",
    "employ_id.text = 'Nancy'\n",
    "\n",
    "# xml_declarationでバージョンなどの情報を記載するか判別できる\n",
    "tree.write('udemy/test.xml', encoding='utf-8', xml_declaration=True)\n",
    "\n",
    "tree = ET.ElementTree(file='udemy/test.xml')\n",
    "root = tree.getroot()\n",
    "\n",
    "for employee in root:\n",
    "    for employ in employee:\n",
    "        for person in employ:\n",
    "            print(person.tag, person.text)"
   ]
  },
  {
   "cell_type": "markdown",
   "metadata": {},
   "source": [
    "### JSON"
   ]
  },
  {
   "cell_type": "code",
   "execution_count": 41,
   "metadata": {},
   "outputs": [
    {
     "name": "stdout",
     "output_type": "stream",
     "text": [
      "{'employee': [{'id': 111, 'name': 'Mike'}, {'id': 222, 'name': 'Nancy'}]}\n",
      "{'employee': [{'id': 111, 'name': 'Mike'}, {'id': 222, 'name': 'Nancy'}]}\n",
      "{'employee': [{'id': 111, 'name': 'Mike'}, {'id': 222, 'name': 'Nancy'}]}\n"
     ]
    }
   ],
   "source": [
    "import json\n",
    "\n",
    "# ディクショナリの形をそのままファイルに書き込める\n",
    "j = {\n",
    "    \"employee\":\n",
    "            [\n",
    "                {\"id\": 111, \"name\": 'Mike'},\n",
    "                {\"id\": 222, \"name\": \"Nancy\"}\n",
    "            ]\n",
    "}\n",
    "\n",
    "print(j)\n",
    "\n",
    "# python上でdumpしてloadする場合\n",
    "a = json.dumps(j)\n",
    "print(json.loads(a))\n",
    "\n",
    "# 書き込み\n",
    "with open('udemy/test.json', 'w') as f:\n",
    "    json.dump(j, f)\n",
    "\n",
    "# 読み込み\n",
    "with open('udemy/test.json', 'r') as f:\n",
    "    print(json.load(f))\n"
   ]
  },
  {
   "cell_type": "markdown",
   "metadata": {},
   "source": [
    "### urlib.request\n",
    "REST  \n",
    "HTTPメソッド クライアントが行いたい処理をサーバに伝える  \n",
    "\n",
    "GET: データの参照  \n",
    "POST: データの新規登録  \n",
    "PUT: データの更新  \n",
    "DELETE: データの削除"
   ]
  },
  {
   "cell_type": "code",
   "execution_count": 57,
   "metadata": {},
   "outputs": [
    {
     "name": "stdout",
     "output_type": "stream",
     "text": [
      "http://httpbin.org/get?key1=value1&key2=value2\n",
      "<class 'dict'>\n",
      "{'args': {}, 'data': '', 'files': {}, 'form': {'{\"key1\": \"value1\", \"key2\": \"value2\"}': ''}, 'headers': {'Accept-Encoding': 'identity', 'Content-Length': '36', 'Content-Type': 'application/x-www-form-urlencoded', 'Host': 'httpbin.org', 'User-Agent': 'Python-urllib/3.6', 'X-Amzn-Trace-Id': 'Root=1-5ee9bf6b-0855eb589de0f2e0a6eafa5e', 'X-B3-Parentspanid': 'bfe907ff39d82ae9', 'X-B3-Sampled': '0', 'X-B3-Spanid': '07c6b4dbe65e26c2', 'X-B3-Traceid': 'dfa566c404f83d12bfe907ff39d82ae9', 'X-Envoy-External-Address': '10.100.91.201', 'X-Forwarded-Client-Cert': 'By=spiffe://cluster.local/ns/httpbin-istio/sa/httpbin;Hash=482ee92ce7043a32a3747415367b809a18ef777bf07619fd6cb48986aa37f977;Subject=\"\";URI=spiffe://cluster.local/ns/istio-system/sa/istio-ingressgateway-service-account'}, 'json': None, 'origin': '182.236.25.22,10.100.91.201', 'url': 'http://httpbin.org/post'}\n",
      "{'args': {}, 'data': '', 'files': {}, 'form': {'{\"key1\": \"value1\", \"key2\": \"value2\"}': ''}, 'headers': {'Accept-Encoding': 'identity', 'Content-Length': '36', 'Content-Type': 'application/x-www-form-urlencoded', 'Host': 'httpbin.org', 'User-Agent': 'Python-urllib/3.6', 'X-Amzn-Trace-Id': 'Root=1-5ee9bf6b-dc650ff010a712ef8751ab28', 'X-B3-Parentspanid': '801178697c217e53', 'X-B3-Sampled': '0', 'X-B3-Spanid': '2f8ba7acc5da6da1', 'X-B3-Traceid': 'd7bf5215e120696a801178697c217e53', 'X-Envoy-External-Address': '10.100.91.201', 'X-Forwarded-Client-Cert': 'By=spiffe://cluster.local/ns/httpbin-istio/sa/httpbin;Hash=7931a335cef63626a7bca4a1dfe7405a3c72105e641f107e12ed7d3a1a73661d;Subject=\"\";URI=spiffe://cluster.local/ns/istio-system/sa/istio-ingressgateway-service-account'}, 'json': None, 'origin': '182.236.25.22,10.100.91.201', 'url': 'http://httpbin.org/put'}\n",
      "{'args': {}, 'data': '', 'files': {}, 'form': {'{\"key1\": \"value1\", \"key2\": \"value2\"}': ''}, 'headers': {'Accept-Encoding': 'identity', 'Content-Length': '36', 'Content-Type': 'application/x-www-form-urlencoded', 'Host': 'httpbin.org', 'User-Agent': 'Python-urllib/3.6', 'X-Amzn-Trace-Id': 'Root=1-5ee9bf6c-130e18a065f7b03022dc7340', 'X-B3-Parentspanid': 'd5a6c92de7ced7fa', 'X-B3-Sampled': '0', 'X-B3-Spanid': 'dd41b4d61541d90d', 'X-B3-Traceid': '85c5ccab8ec99495d5a6c92de7ced7fa', 'X-Envoy-External-Address': '10.100.91.201', 'X-Forwarded-Client-Cert': 'By=spiffe://cluster.local/ns/httpbin-istio/sa/httpbin;Hash=8e2aad9db17b1b81b2c81c238929150f0420633d95677083aef779543a6f9cc1;Subject=\"\";URI=spiffe://cluster.local/ns/istio-system/sa/istio-ingressgateway-service-account'}, 'json': None, 'origin': '182.236.25.22,10.100.91.201', 'url': 'http://httpbin.org/delete'}\n"
     ]
    }
   ],
   "source": [
    "import urllib.request\n",
    "import json\n",
    "\n",
    "payload = {'key1': 'value1', 'key2': 'value2'}\n",
    "\n",
    "url = 'http://httpbin.org/get' + '?' + urllib.parse.urlencode(payload)\n",
    "print(url)\n",
    "\n",
    "# GET\n",
    "# f.read()でバイナリ型、decodeでjson型、json.loadsで辞書型にする\n",
    "with urllib.request.urlopen(url) as f:\n",
    "    #print(f.read().decode('utf-8'))\n",
    "    r = json.loads(f.read().decode('utf-8'))\n",
    "    print(type(r))\n",
    "    \n",
    "# POST\n",
    "payload = json.dumps(payload).encode('utf-8')\n",
    "req = urllib.request.Request(\n",
    "        'http://httpbin.org/post', data=payload, method='POST')\n",
    "with urllib.request.urlopen(req) as f:\n",
    "    print(json.loads(f.read().decode('utf-8')))\n",
    "    \n",
    "# PUT\n",
    "req = urllib.request.Request(\n",
    "        'http://httpbin.org/put', data=payload, method='PUT')\n",
    "with urllib.request.urlopen(req) as f:\n",
    "    print(json.loads(f.read().decode('utf-8')))\n",
    "    \n",
    "# DELETE\n",
    "req = urllib.request.Request(\n",
    "        'http://httpbin.org/delete', data=payload, method='DELETE')\n",
    "with urllib.request.urlopen(req) as f:\n",
    "    print(json.loads(f.read().decode('utf-8')))\n",
    " "
   ]
  },
  {
   "cell_type": "markdown",
   "metadata": {},
   "source": [
    "### requests\n",
    "サードパーティのhttp操作"
   ]
  },
  {
   "cell_type": "code",
   "execution_count": 62,
   "metadata": {},
   "outputs": [
    {
     "name": "stdout",
     "output_type": "stream",
     "text": [
      "200\n",
      "{\n",
      "  \"args\": {\n",
      "    \"key1\": \"value1\", \n",
      "    \"key2\": \"value2\"\n",
      "  }, \n",
      "  \"headers\": {\n",
      "    \"Accept\": \"*/*\", \n",
      "    \"Accept-Encoding\": \"gzip, deflate\", \n",
      "    \"Host\": \"httpbin.org\", \n",
      "    \"User-Agent\": \"python-requests/2.22.0\", \n",
      "    \"X-Amzn-Trace-Id\": \"Root=1-5ee9d024-006fbb5a007ec7beb669e876\"\n",
      "  }, \n",
      "  \"origin\": \"182.236.25.22\", \n",
      "  \"url\": \"http://httpbin.org/get?key1=value1&key2=value2\"\n",
      "}\n",
      "\n",
      "<bound method Response.json of <Response [200]>>\n"
     ]
    }
   ],
   "source": [
    "import requests\n",
    "\n",
    "payload = {'key1': 'value1', 'key2': 'value2'}\n",
    "\n",
    "r = requests.get('http://httpbin.org/get', params=payload, timeout=1)\n",
    "#r = requests.post('http://httpbin.org/post', data=payload)\n",
    "#r = requests.put('http://httpbin.org/put', data=payload)\n",
    "#r = requests.delete('http://httpbin.org/delete', data=payload)\n",
    "\n",
    "print(r.status_code)\n",
    "print(r.text)\n",
    "print(r.json)"
   ]
  },
  {
   "cell_type": "markdown",
   "metadata": {},
   "source": [
    "### ソケット通信\n",
    "ウェルノーンポート: 0-1023  \n",
    "登録済みポート: (1024-49151)  \n",
    "動的・プライベートポート: 49152-65535\n"
   ]
  },
  {
   "cell_type": "code",
   "execution_count": null,
   "metadata": {},
   "outputs": [],
   "source": [
    "import socket\n",
    "\n",
    "# サーバー側\n",
    "with socket.socket(socket.AF_INET, socket.SOCK_STREAM) as s:\n",
    "    s.bind(('127.0.0.1', 50007))\n",
    "    s.listen(1)\n",
    "    while True:\n",
    "        conn, addr = s.accept()\n",
    "        with conn:\n",
    "            while True:\n",
    "                data = conn.recv(1024)\n",
    "                if not data:\n",
    "                    break\n",
    "                print('data: {}, addr: {}'.format(data, addr))\n",
    "                conn.sendalld(b'Received:' + data)\n",
    "                \n",
    "# クライアント側\n",
    "with socket.socket(socket.AF_INET, socket.SOCK_STREAM) as s:\n",
    "    s.connect(('127.0.0.1', 50007))\n",
    "    s.sendall(b'Hello')\n",
    "    data = s.recv(1024)\n",
    "    print(repr(data))"
   ]
  },
  {
   "cell_type": "markdown",
   "metadata": {},
   "source": [
    "### socketserver"
   ]
  },
  {
   "cell_type": "code",
   "execution_count": null,
   "metadata": {},
   "outputs": [],
   "source": [
    "import http.server\n",
    "import socketserver\n",
    "\n",
    "with socketserver.TCPServer(('127.0.0.1', 8000),\n",
    "                            http.server.SimpleHTTPRequestHandler) as httpd:\n",
    "    httpd.serve_forever()\n"
   ]
  },
  {
   "cell_type": "markdown",
   "metadata": {},
   "source": [
    "### flask"
   ]
  },
  {
   "cell_type": "code",
   "execution_count": null,
   "metadata": {},
   "outputs": [],
   "source": [
    "import sqlite3\n",
    "\n",
    "from flask import Flask\n",
    "from flask import g\n",
    "from flask import render_template\n",
    "from flask import request\n",
    "from flask import Request\n",
    "\n",
    "app = Flask(__name__)\n",
    "\n",
    "# データベースを開く\n",
    "def get_db():\n",
    "    db = getattr(g, '_database', None)\n",
    "    if db is None:\n",
    "        db = g._database = sqlite3.connect(('test_sqlite.db'))\n",
    "    return db\n",
    "\n",
    "# データベースを閉じる\n",
    "@app.teardown_appcontext\n",
    "def close_connection(exception):\n",
    "    db = getattr(g, '_database', None)\n",
    "    if db is not None:\n",
    "        db.close()\n",
    "\n",
    "@app.route('/employee', methods=['POST', 'PUT', 'DELETE'])\n",
    "@app.route('/employee/<name>', methods=['GET'])\n",
    "def employee(name=None):\n",
    "    db = get_db()\n",
    "    curs = db.cursor()\n",
    "    curs.execute(\n",
    "        'CREATE TABLE IF NOT EXISTS persons( '\n",
    "        'id INTEGER PRIMARY KEY AUTOINCREMENT, name STRING)'\n",
    "    )\n",
    "    db.commit()\n",
    "\n",
    "    name = request.values.get('name', name)\n",
    "    if request.method == 'GET':\n",
    "        curs.execute('SELECT * FROM persons WHERE name = \"{}\"'.format(name))\n",
    "        person = curs.fetchone()\n",
    "        if not person:\n",
    "            return 'No', 404\n",
    "        user_id, name = person\n",
    "        return '{}:{}'.format(user_id, name), 200\n",
    "\n",
    "    if request.method == 'POST':\n",
    "        curs.execute('INSERT INTO persons(name) values(\"{}\")'.format(name))\n",
    "        db.commit()\n",
    "        return 'created {}'.format(name), 201\n",
    "\n",
    "    if request.method == 'PUT':\n",
    "        new_name = request.values['new_name']\n",
    "        curs.execute('UPDATE persons set name = \"{}\" WHERE name = \"{}\"'.format(\n",
    "            new_name, name\n",
    "        ))\n",
    "        db.commit()\n",
    "        return 'update {}:{}'.format(name, new_name), 200\n",
    "\n",
    "    if request.method == 'DELETE':\n",
    "        curs.execute('DELETE from persons WHERE name = \"{}\"'.format(name))\n",
    "        db.commit()\n",
    "        return 'deleted {}'.format(name), 200\n",
    "\n",
    "@app.route('/')\n",
    "def hello_world():\n",
    "    return 'top'\n",
    "\n",
    "@app.route('/hello')\n",
    "@app.route('/hello/<username>')\n",
    "def hello_world2(username=None):\n",
    "    #return 'hello world! {}'.format(username)\n",
    "    return render_template('hello.html', username=username)\n",
    "\n",
    "@app.route('/post', methods=['POST', 'PUT', 'DELETE'])\n",
    "def show_post():\n",
    "    return str(request.values)\n",
    "\n",
    "def main():\n",
    "    app.debug = True\n",
    "    #app.run(host='127.0.0.1', port=5000)\n",
    "    app.run()\n",
    "\n",
    "if __name__ == '__main__':\n",
    "    main()"
   ]
  },
  {
   "cell_type": "markdown",
   "metadata": {},
   "source": [
    "### スクレイビング\n",
    "BeautifulSoupがスクレイピングで有名"
   ]
  },
  {
   "cell_type": "code",
   "execution_count": 70,
   "metadata": {},
   "outputs": [
    {
     "name": "stdout",
     "output_type": "stream",
     "text": [
      "Welcome to Python.org\n",
      "[<div class=\"introduction\">\n",
      "<p>Python is a programming language that lets you work quickly <span class=\"breaker\"></span>and integrate systems more effectively. <a class=\"readmore\" href=\"/doc/\">Learn More</a></p>\n",
      "</div>]\n",
      "\n",
      "Python is a programming language that lets you work quickly and integrate systems more effectively. Learn More\n",
      "\n"
     ]
    }
   ],
   "source": [
    "from bs4 import BeautifulSoup\n",
    "import requests\n",
    "\n",
    "# htmlを取得\n",
    "html = requests.get('https://www.python.org')\n",
    "\n",
    "soup = BeautifulSoup(html.text, 'lxml')\n",
    "\n",
    "titles = soup.find_all('title')\n",
    "print(titles[0].text)\n",
    "\n",
    "intro = soup.find_all('div', {'class': 'introduction'})\n",
    "print(intro)\n",
    "print(intro[0].text)"
   ]
  },
  {
   "cell_type": "markdown",
   "metadata": {},
   "source": [
    "## セクション14: テスト"
   ]
  },
  {
   "cell_type": "markdown",
   "metadata": {},
   "source": [
    "### doctest\n",
    "doctestは記載した対話型シェルの処理を実行してくれる  \n",
    "doctestは簡単なテストなので、ドキュメントしての機能を持つイメージ"
   ]
  },
  {
   "cell_type": "code",
   "execution_count": 75,
   "metadata": {},
   "outputs": [
    {
     "name": "stdout",
     "output_type": "stream",
     "text": [
      "**********************************************************************\n",
      "File \"__main__\", line 6, in __main__.Cal.add_num_and_double\n",
      "Failed example:\n",
      "    c.add_num_and_double(1, 1)\n",
      "Expected:\n",
      "    5\n",
      "Got:\n",
      "    4\n",
      "**********************************************************************\n",
      "1 items had failures:\n",
      "   1 of   3 in __main__.Cal.add_num_and_double\n",
      "***Test Failed*** 1 failures.\n"
     ]
    }
   ],
   "source": [
    "class Cal(object):\n",
    "    def add_num_and_double(self, x, y):\n",
    "        \"\"\"Add and double\n",
    "        \n",
    "        >>> c = Cal()\n",
    "        >>> c.add_num_and_double(1, 1)\n",
    "        5\n",
    "        \n",
    "        >>> c.add_num_and_double('1', '1')\n",
    "        Traceback (most recent call last):\n",
    "        ...\n",
    "        ValueError\n",
    "        \"\"\"\n",
    "        if type(x) is not int or type(y) is not int:\n",
    "            raise ValueError\n",
    "            \n",
    "        result = x + y\n",
    "        result *= 2\n",
    "        return result\n",
    "    \n",
    "# doctestを利用する場合は、mainから実行する\n",
    "# import をコードの初めに書かない\n",
    "if __name__ == '__main__':\n",
    "    import doctest\n",
    "    doctest.testmod()"
   ]
  },
  {
   "cell_type": "markdown",
   "metadata": {},
   "source": [
    "### Unittest"
   ]
  },
  {
   "cell_type": "code",
   "execution_count": 76,
   "metadata": {},
   "outputs": [],
   "source": [
    "# テストしたいクラスを書いたpythonファイルを用意する\n",
    "\n",
    "class Cal(object):\n",
    "    def add_num_and_double(self, x, y):\n",
    "        if type(x) is not int or type(y) is not int:\n",
    "            raise ValueError\n",
    "            \n",
    "        result = x + y\n",
    "        result *= 2\n",
    "        return result\n"
   ]
  },
  {
   "cell_type": "code",
   "execution_count": 90,
   "metadata": {},
   "outputs": [
    {
     "name": "stderr",
     "output_type": "stream",
     "text": [
      "E\n",
      "======================================================================\n",
      "ERROR: /Users/satsuki/Library/Jupyter/runtime/kernel-3c061139-e934-40c9-a543-38e6817df2df (unittest.loader._FailedTest)\n",
      "----------------------------------------------------------------------\n",
      "AttributeError: module '__main__' has no attribute '/Users/satsuki/Library/Jupyter/runtime/kernel-3c061139-e934-40c9-a543-38e6817df2df'\n",
      "\n",
      "----------------------------------------------------------------------\n",
      "Ran 1 test in 0.001s\n",
      "\n",
      "FAILED (errors=1)\n"
     ]
    },
    {
     "ename": "SystemExit",
     "evalue": "True",
     "output_type": "error",
     "traceback": [
      "An exception has occurred, use %tb to see the full traceback.\n",
      "\u001b[0;31mSystemExit\u001b[0m\u001b[0;31m:\u001b[0m True\n"
     ]
    },
    {
     "name": "stderr",
     "output_type": "stream",
     "text": [
      "/Users/satsuki/anaconda3/envs/gpu-env/lib/python3.6/site-packages/IPython/core/interactiveshell.py:3334: UserWarning: To exit: use 'exit', 'quit', or Ctrl-D.\n",
      "  warn(\"To exit: use 'exit', 'quit', or Ctrl-D.\", stacklevel=1)\n"
     ]
    }
   ],
   "source": [
    "# unittestを実行するためのpythonファイルを作成する\n",
    "\n",
    "import unittest\n",
    "\n",
    "release_name = 'lesson'\n",
    "\n",
    "class CalTest(unittest.TestCase):\n",
    "    # テストを始める前に行う処理\n",
    "    def setUp(self):\n",
    "        print('setup')\n",
    "        sefl.cal = Cal()\n",
    "\n",
    "    # テストが終わった後に行う処理\n",
    "    def tearDown(self):\n",
    "        print('clean up')\n",
    "        del self.cal\n",
    "        \n",
    "    # テストしたいクラスを記述\n",
    "    # スキップしたい処理はデコレータを用いる, 条件式を用いることができる\n",
    "    #@unittest.skip('skip!')\n",
    "    @unittest.skipIf(release_name=='lesson', 'skip!!')\n",
    "    def test_add_num_and_double(self):\n",
    "        cal = Cal()\n",
    "        # 第一引数が第二引数と等しいかどうか調べる\n",
    "        self.assertEqual(cal.add_num_and_double(1, 1),5)\n",
    "\n",
    "    #  例外処理のためのテスト\n",
    "    def test_add_num_and_double_raise(self):\n",
    "        cal = Cal()\n",
    "        with self.assertRaises(ValueError):\n",
    "            cal.add_num_and_double('1', '1')\n",
    "\n",
    "    \n",
    "    \n",
    "if __name__ == '__main__':\n",
    "    unittest.main()\n",
    "   "
   ]
  },
  {
   "cell_type": "markdown",
   "metadata": {},
   "source": [
    "### pytest"
   ]
  },
  {
   "cell_type": "code",
   "execution_count": 94,
   "metadata": {},
   "outputs": [],
   "source": [
    "import pytest\n",
    "\n",
    "class TestCal(object):\n",
    "    # テストを始める前に行う処理\n",
    "    def setup_method(self, method):\n",
    "        print('method={}'.format(method.__name__))\n",
    "        sefl.cal = Cal()\n",
    "\n",
    "    # テストが終わった後に行う処理\n",
    "    def teardown_method(self, method):\n",
    "        print('method={}'.format(method.__name__))\n",
    "        del self.cal\n",
    "        \n",
    "    def test_add_num_and_double():\n",
    "        cal = Cal()\n",
    "        assert cal.add_num_and_double(1, 1) != 4\n",
    "    \n",
    "    def test_add_num_and_double_raise(self):\n",
    "         with pytest.raises(ValueError):\n",
    "            cal.add_num_and_double('1', '1')\n",
    "\n",
    "    "
   ]
  },
  {
   "cell_type": "code",
   "execution_count": null,
   "metadata": {},
   "outputs": [],
   "source": []
  },
  {
   "cell_type": "code",
   "execution_count": null,
   "metadata": {},
   "outputs": [],
   "source": []
  },
  {
   "cell_type": "code",
   "execution_count": null,
   "metadata": {},
   "outputs": [],
   "source": []
  }
 ],
 "metadata": {
  "kernelspec": {
   "display_name": "Python 3",
   "language": "python",
   "name": "python3"
  },
  "language_info": {
   "codemirror_mode": {
    "name": "ipython",
    "version": 3
   },
   "file_extension": ".py",
   "mimetype": "text/x-python",
   "name": "python",
   "nbconvert_exporter": "python",
   "pygments_lexer": "ipython3",
   "version": "3.6.9"
  }
 },
 "nbformat": 4,
 "nbformat_minor": 2
}
